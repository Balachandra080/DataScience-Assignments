{
 "cells": [
  {
   "cell_type": "markdown",
   "id": "b200d6ae",
   "metadata": {},
   "source": [
    "# Descriptive Statistics & Data Preprocessing Sales and Discount Datasets"
   ]
  },
  {
   "cell_type": "code",
   "execution_count": 2,
   "id": "a093f62d",
   "metadata": {},
   "outputs": [
    {
     "data": {
      "text/html": [
       "<div>\n",
       "<style scoped>\n",
       "    .dataframe tbody tr th:only-of-type {\n",
       "        vertical-align: middle;\n",
       "    }\n",
       "\n",
       "    .dataframe tbody tr th {\n",
       "        vertical-align: top;\n",
       "    }\n",
       "\n",
       "    .dataframe thead th {\n",
       "        text-align: right;\n",
       "    }\n",
       "</style>\n",
       "<table border=\"1\" class=\"dataframe\">\n",
       "  <thead>\n",
       "    <tr style=\"text-align: right;\">\n",
       "      <th></th>\n",
       "      <th>Date</th>\n",
       "      <th>Day</th>\n",
       "      <th>SKU</th>\n",
       "      <th>City</th>\n",
       "      <th>Volume</th>\n",
       "      <th>BU</th>\n",
       "      <th>Brand</th>\n",
       "      <th>Model</th>\n",
       "      <th>Avg Price</th>\n",
       "      <th>Total Sales Value</th>\n",
       "      <th>Discount Rate (%)</th>\n",
       "      <th>Discount Amount</th>\n",
       "      <th>Net Sales Value</th>\n",
       "    </tr>\n",
       "  </thead>\n",
       "  <tbody>\n",
       "    <tr>\n",
       "      <th>0</th>\n",
       "      <td>01-04-2021</td>\n",
       "      <td>Thursday</td>\n",
       "      <td>M01</td>\n",
       "      <td>C</td>\n",
       "      <td>15</td>\n",
       "      <td>Mobiles</td>\n",
       "      <td>RealU</td>\n",
       "      <td>RU-10</td>\n",
       "      <td>12100</td>\n",
       "      <td>181500</td>\n",
       "      <td>11.654820</td>\n",
       "      <td>21153.498820</td>\n",
       "      <td>160346.501180</td>\n",
       "    </tr>\n",
       "    <tr>\n",
       "      <th>1</th>\n",
       "      <td>01-04-2021</td>\n",
       "      <td>Thursday</td>\n",
       "      <td>M02</td>\n",
       "      <td>C</td>\n",
       "      <td>10</td>\n",
       "      <td>Mobiles</td>\n",
       "      <td>RealU</td>\n",
       "      <td>RU-9 Plus</td>\n",
       "      <td>10100</td>\n",
       "      <td>101000</td>\n",
       "      <td>11.560498</td>\n",
       "      <td>11676.102961</td>\n",
       "      <td>89323.897039</td>\n",
       "    </tr>\n",
       "    <tr>\n",
       "      <th>2</th>\n",
       "      <td>01-04-2021</td>\n",
       "      <td>Thursday</td>\n",
       "      <td>M03</td>\n",
       "      <td>C</td>\n",
       "      <td>7</td>\n",
       "      <td>Mobiles</td>\n",
       "      <td>YouM</td>\n",
       "      <td>YM-99</td>\n",
       "      <td>16100</td>\n",
       "      <td>112700</td>\n",
       "      <td>9.456886</td>\n",
       "      <td>10657.910157</td>\n",
       "      <td>102042.089843</td>\n",
       "    </tr>\n",
       "    <tr>\n",
       "      <th>3</th>\n",
       "      <td>01-04-2021</td>\n",
       "      <td>Thursday</td>\n",
       "      <td>M04</td>\n",
       "      <td>C</td>\n",
       "      <td>6</td>\n",
       "      <td>Mobiles</td>\n",
       "      <td>YouM</td>\n",
       "      <td>YM-99 Plus</td>\n",
       "      <td>20100</td>\n",
       "      <td>120600</td>\n",
       "      <td>6.935385</td>\n",
       "      <td>8364.074702</td>\n",
       "      <td>112235.925298</td>\n",
       "    </tr>\n",
       "    <tr>\n",
       "      <th>4</th>\n",
       "      <td>01-04-2021</td>\n",
       "      <td>Thursday</td>\n",
       "      <td>M05</td>\n",
       "      <td>C</td>\n",
       "      <td>3</td>\n",
       "      <td>Mobiles</td>\n",
       "      <td>YouM</td>\n",
       "      <td>YM-98</td>\n",
       "      <td>8100</td>\n",
       "      <td>24300</td>\n",
       "      <td>17.995663</td>\n",
       "      <td>4372.946230</td>\n",
       "      <td>19927.053770</td>\n",
       "    </tr>\n",
       "    <tr>\n",
       "      <th>...</th>\n",
       "      <td>...</td>\n",
       "      <td>...</td>\n",
       "      <td>...</td>\n",
       "      <td>...</td>\n",
       "      <td>...</td>\n",
       "      <td>...</td>\n",
       "      <td>...</td>\n",
       "      <td>...</td>\n",
       "      <td>...</td>\n",
       "      <td>...</td>\n",
       "      <td>...</td>\n",
       "      <td>...</td>\n",
       "      <td>...</td>\n",
       "    </tr>\n",
       "    <tr>\n",
       "      <th>445</th>\n",
       "      <td>15-04-2021</td>\n",
       "      <td>Thursday</td>\n",
       "      <td>L06</td>\n",
       "      <td>C</td>\n",
       "      <td>2</td>\n",
       "      <td>Lifestyle</td>\n",
       "      <td>Jeera</td>\n",
       "      <td>M-Casuals</td>\n",
       "      <td>1300</td>\n",
       "      <td>2600</td>\n",
       "      <td>15.475687</td>\n",
       "      <td>402.367873</td>\n",
       "      <td>2197.632127</td>\n",
       "    </tr>\n",
       "    <tr>\n",
       "      <th>446</th>\n",
       "      <td>15-04-2021</td>\n",
       "      <td>Thursday</td>\n",
       "      <td>L07</td>\n",
       "      <td>C</td>\n",
       "      <td>6</td>\n",
       "      <td>Lifestyle</td>\n",
       "      <td>Viva</td>\n",
       "      <td>W-Western</td>\n",
       "      <td>2600</td>\n",
       "      <td>15600</td>\n",
       "      <td>17.057027</td>\n",
       "      <td>2660.896242</td>\n",
       "      <td>12939.103758</td>\n",
       "    </tr>\n",
       "    <tr>\n",
       "      <th>447</th>\n",
       "      <td>15-04-2021</td>\n",
       "      <td>Thursday</td>\n",
       "      <td>L08</td>\n",
       "      <td>C</td>\n",
       "      <td>2</td>\n",
       "      <td>Lifestyle</td>\n",
       "      <td>Viva</td>\n",
       "      <td>W-Lounge</td>\n",
       "      <td>1600</td>\n",
       "      <td>3200</td>\n",
       "      <td>18.965550</td>\n",
       "      <td>606.897606</td>\n",
       "      <td>2593.102394</td>\n",
       "    </tr>\n",
       "    <tr>\n",
       "      <th>448</th>\n",
       "      <td>15-04-2021</td>\n",
       "      <td>Thursday</td>\n",
       "      <td>L09</td>\n",
       "      <td>C</td>\n",
       "      <td>3</td>\n",
       "      <td>Lifestyle</td>\n",
       "      <td>Jeera</td>\n",
       "      <td>M-Formals</td>\n",
       "      <td>1900</td>\n",
       "      <td>5700</td>\n",
       "      <td>16.793014</td>\n",
       "      <td>957.201826</td>\n",
       "      <td>4742.798174</td>\n",
       "    </tr>\n",
       "    <tr>\n",
       "      <th>449</th>\n",
       "      <td>15-04-2021</td>\n",
       "      <td>Thursday</td>\n",
       "      <td>L10</td>\n",
       "      <td>C</td>\n",
       "      <td>1</td>\n",
       "      <td>Lifestyle</td>\n",
       "      <td>Jeera</td>\n",
       "      <td>M-Shoes</td>\n",
       "      <td>3100</td>\n",
       "      <td>3100</td>\n",
       "      <td>15.333300</td>\n",
       "      <td>475.332295</td>\n",
       "      <td>2624.667705</td>\n",
       "    </tr>\n",
       "  </tbody>\n",
       "</table>\n",
       "<p>450 rows × 13 columns</p>\n",
       "</div>"
      ],
      "text/plain": [
       "           Date       Day  SKU City  Volume         BU  Brand       Model  \\\n",
       "0    01-04-2021  Thursday  M01    C      15    Mobiles  RealU       RU-10   \n",
       "1    01-04-2021  Thursday  M02    C      10    Mobiles  RealU   RU-9 Plus   \n",
       "2    01-04-2021  Thursday  M03    C       7    Mobiles   YouM       YM-99   \n",
       "3    01-04-2021  Thursday  M04    C       6    Mobiles   YouM  YM-99 Plus   \n",
       "4    01-04-2021  Thursday  M05    C       3    Mobiles   YouM      YM-98    \n",
       "..          ...       ...  ...  ...     ...        ...    ...         ...   \n",
       "445  15-04-2021  Thursday  L06    C       2  Lifestyle  Jeera   M-Casuals   \n",
       "446  15-04-2021  Thursday  L07    C       6  Lifestyle   Viva   W-Western   \n",
       "447  15-04-2021  Thursday  L08    C       2  Lifestyle   Viva    W-Lounge   \n",
       "448  15-04-2021  Thursday  L09    C       3  Lifestyle  Jeera   M-Formals   \n",
       "449  15-04-2021  Thursday  L10    C       1  Lifestyle  Jeera     M-Shoes   \n",
       "\n",
       "     Avg Price  Total Sales Value  Discount Rate (%)  Discount Amount  \\\n",
       "0        12100             181500          11.654820     21153.498820   \n",
       "1        10100             101000          11.560498     11676.102961   \n",
       "2        16100             112700           9.456886     10657.910157   \n",
       "3        20100             120600           6.935385      8364.074702   \n",
       "4         8100              24300          17.995663      4372.946230   \n",
       "..         ...                ...                ...              ...   \n",
       "445       1300               2600          15.475687       402.367873   \n",
       "446       2600              15600          17.057027      2660.896242   \n",
       "447       1600               3200          18.965550       606.897606   \n",
       "448       1900               5700          16.793014       957.201826   \n",
       "449       3100               3100          15.333300       475.332295   \n",
       "\n",
       "     Net Sales Value  \n",
       "0      160346.501180  \n",
       "1       89323.897039  \n",
       "2      102042.089843  \n",
       "3      112235.925298  \n",
       "4       19927.053770  \n",
       "..               ...  \n",
       "445      2197.632127  \n",
       "446     12939.103758  \n",
       "447      2593.102394  \n",
       "448      4742.798174  \n",
       "449      2624.667705  \n",
       "\n",
       "[450 rows x 13 columns]"
      ]
     },
     "execution_count": 2,
     "metadata": {},
     "output_type": "execute_result"
    }
   ],
   "source": [
    "import pandas as pd\n",
    "df=pd.read_csv(\"C:\\\\Users\\\\Kalisetti Balachandu\\\\OneDrive\\\\Desktop\\\\DATA SCIENCE\\\\Basic stats 1\\\\sales_data_with_discounts.csv\")\n",
    "df"
   ]
  },
  {
   "cell_type": "code",
   "execution_count": 3,
   "id": "e0d78670",
   "metadata": {},
   "outputs": [
    {
     "data": {
      "text/html": [
       "<div>\n",
       "<style scoped>\n",
       "    .dataframe tbody tr th:only-of-type {\n",
       "        vertical-align: middle;\n",
       "    }\n",
       "\n",
       "    .dataframe tbody tr th {\n",
       "        vertical-align: top;\n",
       "    }\n",
       "\n",
       "    .dataframe thead th {\n",
       "        text-align: right;\n",
       "    }\n",
       "</style>\n",
       "<table border=\"1\" class=\"dataframe\">\n",
       "  <thead>\n",
       "    <tr style=\"text-align: right;\">\n",
       "      <th></th>\n",
       "      <th>Date</th>\n",
       "      <th>Day</th>\n",
       "      <th>SKU</th>\n",
       "      <th>City</th>\n",
       "      <th>Volume</th>\n",
       "      <th>BU</th>\n",
       "      <th>Brand</th>\n",
       "      <th>Model</th>\n",
       "      <th>Avg Price</th>\n",
       "      <th>Total Sales Value</th>\n",
       "      <th>Discount Rate (%)</th>\n",
       "      <th>Discount Amount</th>\n",
       "      <th>Net Sales Value</th>\n",
       "    </tr>\n",
       "  </thead>\n",
       "  <tbody>\n",
       "    <tr>\n",
       "      <th>0</th>\n",
       "      <td>01-04-2021</td>\n",
       "      <td>Thursday</td>\n",
       "      <td>M01</td>\n",
       "      <td>C</td>\n",
       "      <td>15</td>\n",
       "      <td>Mobiles</td>\n",
       "      <td>RealU</td>\n",
       "      <td>RU-10</td>\n",
       "      <td>12100</td>\n",
       "      <td>181500</td>\n",
       "      <td>11.654820</td>\n",
       "      <td>21153.498820</td>\n",
       "      <td>160346.501180</td>\n",
       "    </tr>\n",
       "    <tr>\n",
       "      <th>1</th>\n",
       "      <td>01-04-2021</td>\n",
       "      <td>Thursday</td>\n",
       "      <td>M02</td>\n",
       "      <td>C</td>\n",
       "      <td>10</td>\n",
       "      <td>Mobiles</td>\n",
       "      <td>RealU</td>\n",
       "      <td>RU-9 Plus</td>\n",
       "      <td>10100</td>\n",
       "      <td>101000</td>\n",
       "      <td>11.560498</td>\n",
       "      <td>11676.102961</td>\n",
       "      <td>89323.897039</td>\n",
       "    </tr>\n",
       "    <tr>\n",
       "      <th>2</th>\n",
       "      <td>01-04-2021</td>\n",
       "      <td>Thursday</td>\n",
       "      <td>M03</td>\n",
       "      <td>C</td>\n",
       "      <td>7</td>\n",
       "      <td>Mobiles</td>\n",
       "      <td>YouM</td>\n",
       "      <td>YM-99</td>\n",
       "      <td>16100</td>\n",
       "      <td>112700</td>\n",
       "      <td>9.456886</td>\n",
       "      <td>10657.910157</td>\n",
       "      <td>102042.089843</td>\n",
       "    </tr>\n",
       "    <tr>\n",
       "      <th>3</th>\n",
       "      <td>01-04-2021</td>\n",
       "      <td>Thursday</td>\n",
       "      <td>M04</td>\n",
       "      <td>C</td>\n",
       "      <td>6</td>\n",
       "      <td>Mobiles</td>\n",
       "      <td>YouM</td>\n",
       "      <td>YM-99 Plus</td>\n",
       "      <td>20100</td>\n",
       "      <td>120600</td>\n",
       "      <td>6.935385</td>\n",
       "      <td>8364.074702</td>\n",
       "      <td>112235.925298</td>\n",
       "    </tr>\n",
       "    <tr>\n",
       "      <th>4</th>\n",
       "      <td>01-04-2021</td>\n",
       "      <td>Thursday</td>\n",
       "      <td>M05</td>\n",
       "      <td>C</td>\n",
       "      <td>3</td>\n",
       "      <td>Mobiles</td>\n",
       "      <td>YouM</td>\n",
       "      <td>YM-98</td>\n",
       "      <td>8100</td>\n",
       "      <td>24300</td>\n",
       "      <td>17.995663</td>\n",
       "      <td>4372.946230</td>\n",
       "      <td>19927.053770</td>\n",
       "    </tr>\n",
       "  </tbody>\n",
       "</table>\n",
       "</div>"
      ],
      "text/plain": [
       "         Date       Day  SKU City  Volume       BU  Brand       Model  \\\n",
       "0  01-04-2021  Thursday  M01    C      15  Mobiles  RealU       RU-10   \n",
       "1  01-04-2021  Thursday  M02    C      10  Mobiles  RealU   RU-9 Plus   \n",
       "2  01-04-2021  Thursday  M03    C       7  Mobiles   YouM       YM-99   \n",
       "3  01-04-2021  Thursday  M04    C       6  Mobiles   YouM  YM-99 Plus   \n",
       "4  01-04-2021  Thursday  M05    C       3  Mobiles   YouM      YM-98    \n",
       "\n",
       "   Avg Price  Total Sales Value  Discount Rate (%)  Discount Amount  \\\n",
       "0      12100             181500          11.654820     21153.498820   \n",
       "1      10100             101000          11.560498     11676.102961   \n",
       "2      16100             112700           9.456886     10657.910157   \n",
       "3      20100             120600           6.935385      8364.074702   \n",
       "4       8100              24300          17.995663      4372.946230   \n",
       "\n",
       "   Net Sales Value  \n",
       "0    160346.501180  \n",
       "1     89323.897039  \n",
       "2    102042.089843  \n",
       "3    112235.925298  \n",
       "4     19927.053770  "
      ]
     },
     "execution_count": 3,
     "metadata": {},
     "output_type": "execute_result"
    }
   ],
   "source": [
    "df.head()"
   ]
  },
  {
   "cell_type": "code",
   "execution_count": 4,
   "id": "8d4c6550",
   "metadata": {},
   "outputs": [
    {
     "data": {
      "text/html": [
       "<div>\n",
       "<style scoped>\n",
       "    .dataframe tbody tr th:only-of-type {\n",
       "        vertical-align: middle;\n",
       "    }\n",
       "\n",
       "    .dataframe tbody tr th {\n",
       "        vertical-align: top;\n",
       "    }\n",
       "\n",
       "    .dataframe thead th {\n",
       "        text-align: right;\n",
       "    }\n",
       "</style>\n",
       "<table border=\"1\" class=\"dataframe\">\n",
       "  <thead>\n",
       "    <tr style=\"text-align: right;\">\n",
       "      <th></th>\n",
       "      <th>Date</th>\n",
       "      <th>Day</th>\n",
       "      <th>SKU</th>\n",
       "      <th>City</th>\n",
       "      <th>Volume</th>\n",
       "      <th>BU</th>\n",
       "      <th>Brand</th>\n",
       "      <th>Model</th>\n",
       "      <th>Avg Price</th>\n",
       "      <th>Total Sales Value</th>\n",
       "      <th>Discount Rate (%)</th>\n",
       "      <th>Discount Amount</th>\n",
       "      <th>Net Sales Value</th>\n",
       "    </tr>\n",
       "  </thead>\n",
       "  <tbody>\n",
       "    <tr>\n",
       "      <th>445</th>\n",
       "      <td>15-04-2021</td>\n",
       "      <td>Thursday</td>\n",
       "      <td>L06</td>\n",
       "      <td>C</td>\n",
       "      <td>2</td>\n",
       "      <td>Lifestyle</td>\n",
       "      <td>Jeera</td>\n",
       "      <td>M-Casuals</td>\n",
       "      <td>1300</td>\n",
       "      <td>2600</td>\n",
       "      <td>15.475687</td>\n",
       "      <td>402.367873</td>\n",
       "      <td>2197.632127</td>\n",
       "    </tr>\n",
       "    <tr>\n",
       "      <th>446</th>\n",
       "      <td>15-04-2021</td>\n",
       "      <td>Thursday</td>\n",
       "      <td>L07</td>\n",
       "      <td>C</td>\n",
       "      <td>6</td>\n",
       "      <td>Lifestyle</td>\n",
       "      <td>Viva</td>\n",
       "      <td>W-Western</td>\n",
       "      <td>2600</td>\n",
       "      <td>15600</td>\n",
       "      <td>17.057027</td>\n",
       "      <td>2660.896242</td>\n",
       "      <td>12939.103758</td>\n",
       "    </tr>\n",
       "    <tr>\n",
       "      <th>447</th>\n",
       "      <td>15-04-2021</td>\n",
       "      <td>Thursday</td>\n",
       "      <td>L08</td>\n",
       "      <td>C</td>\n",
       "      <td>2</td>\n",
       "      <td>Lifestyle</td>\n",
       "      <td>Viva</td>\n",
       "      <td>W-Lounge</td>\n",
       "      <td>1600</td>\n",
       "      <td>3200</td>\n",
       "      <td>18.965550</td>\n",
       "      <td>606.897606</td>\n",
       "      <td>2593.102394</td>\n",
       "    </tr>\n",
       "    <tr>\n",
       "      <th>448</th>\n",
       "      <td>15-04-2021</td>\n",
       "      <td>Thursday</td>\n",
       "      <td>L09</td>\n",
       "      <td>C</td>\n",
       "      <td>3</td>\n",
       "      <td>Lifestyle</td>\n",
       "      <td>Jeera</td>\n",
       "      <td>M-Formals</td>\n",
       "      <td>1900</td>\n",
       "      <td>5700</td>\n",
       "      <td>16.793014</td>\n",
       "      <td>957.201826</td>\n",
       "      <td>4742.798174</td>\n",
       "    </tr>\n",
       "    <tr>\n",
       "      <th>449</th>\n",
       "      <td>15-04-2021</td>\n",
       "      <td>Thursday</td>\n",
       "      <td>L10</td>\n",
       "      <td>C</td>\n",
       "      <td>1</td>\n",
       "      <td>Lifestyle</td>\n",
       "      <td>Jeera</td>\n",
       "      <td>M-Shoes</td>\n",
       "      <td>3100</td>\n",
       "      <td>3100</td>\n",
       "      <td>15.333300</td>\n",
       "      <td>475.332295</td>\n",
       "      <td>2624.667705</td>\n",
       "    </tr>\n",
       "  </tbody>\n",
       "</table>\n",
       "</div>"
      ],
      "text/plain": [
       "           Date       Day  SKU City  Volume         BU  Brand      Model  \\\n",
       "445  15-04-2021  Thursday  L06    C       2  Lifestyle  Jeera  M-Casuals   \n",
       "446  15-04-2021  Thursday  L07    C       6  Lifestyle   Viva  W-Western   \n",
       "447  15-04-2021  Thursday  L08    C       2  Lifestyle   Viva   W-Lounge   \n",
       "448  15-04-2021  Thursday  L09    C       3  Lifestyle  Jeera  M-Formals   \n",
       "449  15-04-2021  Thursday  L10    C       1  Lifestyle  Jeera    M-Shoes   \n",
       "\n",
       "     Avg Price  Total Sales Value  Discount Rate (%)  Discount Amount  \\\n",
       "445       1300               2600          15.475687       402.367873   \n",
       "446       2600              15600          17.057027      2660.896242   \n",
       "447       1600               3200          18.965550       606.897606   \n",
       "448       1900               5700          16.793014       957.201826   \n",
       "449       3100               3100          15.333300       475.332295   \n",
       "\n",
       "     Net Sales Value  \n",
       "445      2197.632127  \n",
       "446     12939.103758  \n",
       "447      2593.102394  \n",
       "448      4742.798174  \n",
       "449      2624.667705  "
      ]
     },
     "execution_count": 4,
     "metadata": {},
     "output_type": "execute_result"
    }
   ],
   "source": [
    "df.tail()"
   ]
  },
  {
   "cell_type": "code",
   "execution_count": 6,
   "id": "d2e8469c",
   "metadata": {},
   "outputs": [
    {
     "data": {
      "text/plain": [
       "Date                  object\n",
       "Day                   object\n",
       "SKU                   object\n",
       "City                  object\n",
       "Volume                 int64\n",
       "BU                    object\n",
       "Brand                 object\n",
       "Model                 object\n",
       "Avg Price              int64\n",
       "Total Sales Value      int64\n",
       "Discount Rate (%)    float64\n",
       "Discount Amount      float64\n",
       "Net Sales Value      float64\n",
       "dtype: object"
      ]
     },
     "execution_count": 6,
     "metadata": {},
     "output_type": "execute_result"
    }
   ],
   "source": [
    "df.dtypes"
   ]
  },
  {
   "cell_type": "code",
   "execution_count": 7,
   "id": "78d049c1",
   "metadata": {},
   "outputs": [
    {
     "data": {
      "text/html": [
       "<div>\n",
       "<style scoped>\n",
       "    .dataframe tbody tr th:only-of-type {\n",
       "        vertical-align: middle;\n",
       "    }\n",
       "\n",
       "    .dataframe tbody tr th {\n",
       "        vertical-align: top;\n",
       "    }\n",
       "\n",
       "    .dataframe thead th {\n",
       "        text-align: right;\n",
       "    }\n",
       "</style>\n",
       "<table border=\"1\" class=\"dataframe\">\n",
       "  <thead>\n",
       "    <tr style=\"text-align: right;\">\n",
       "      <th></th>\n",
       "      <th>Volume</th>\n",
       "      <th>Avg Price</th>\n",
       "      <th>Total Sales Value</th>\n",
       "      <th>Discount Rate (%)</th>\n",
       "      <th>Discount Amount</th>\n",
       "      <th>Net Sales Value</th>\n",
       "    </tr>\n",
       "  </thead>\n",
       "  <tbody>\n",
       "    <tr>\n",
       "      <th>count</th>\n",
       "      <td>450.000000</td>\n",
       "      <td>450.000000</td>\n",
       "      <td>450.000000</td>\n",
       "      <td>450.000000</td>\n",
       "      <td>450.000000</td>\n",
       "      <td>450.000000</td>\n",
       "    </tr>\n",
       "    <tr>\n",
       "      <th>mean</th>\n",
       "      <td>5.066667</td>\n",
       "      <td>10453.433333</td>\n",
       "      <td>33812.835556</td>\n",
       "      <td>15.155242</td>\n",
       "      <td>3346.499424</td>\n",
       "      <td>30466.336131</td>\n",
       "    </tr>\n",
       "    <tr>\n",
       "      <th>std</th>\n",
       "      <td>4.231602</td>\n",
       "      <td>18079.904840</td>\n",
       "      <td>50535.074173</td>\n",
       "      <td>4.220602</td>\n",
       "      <td>4509.902963</td>\n",
       "      <td>46358.656624</td>\n",
       "    </tr>\n",
       "    <tr>\n",
       "      <th>min</th>\n",
       "      <td>1.000000</td>\n",
       "      <td>290.000000</td>\n",
       "      <td>400.000000</td>\n",
       "      <td>5.007822</td>\n",
       "      <td>69.177942</td>\n",
       "      <td>326.974801</td>\n",
       "    </tr>\n",
       "    <tr>\n",
       "      <th>25%</th>\n",
       "      <td>3.000000</td>\n",
       "      <td>465.000000</td>\n",
       "      <td>2700.000000</td>\n",
       "      <td>13.965063</td>\n",
       "      <td>460.459304</td>\n",
       "      <td>2202.208645</td>\n",
       "    </tr>\n",
       "    <tr>\n",
       "      <th>50%</th>\n",
       "      <td>4.000000</td>\n",
       "      <td>1450.000000</td>\n",
       "      <td>5700.000000</td>\n",
       "      <td>16.577766</td>\n",
       "      <td>988.933733</td>\n",
       "      <td>4677.788059</td>\n",
       "    </tr>\n",
       "    <tr>\n",
       "      <th>75%</th>\n",
       "      <td>6.000000</td>\n",
       "      <td>10100.000000</td>\n",
       "      <td>53200.000000</td>\n",
       "      <td>18.114718</td>\n",
       "      <td>5316.495427</td>\n",
       "      <td>47847.912852</td>\n",
       "    </tr>\n",
       "    <tr>\n",
       "      <th>max</th>\n",
       "      <td>31.000000</td>\n",
       "      <td>60100.000000</td>\n",
       "      <td>196400.000000</td>\n",
       "      <td>19.992407</td>\n",
       "      <td>25738.022194</td>\n",
       "      <td>179507.479049</td>\n",
       "    </tr>\n",
       "  </tbody>\n",
       "</table>\n",
       "</div>"
      ],
      "text/plain": [
       "           Volume     Avg Price  Total Sales Value  Discount Rate (%)  \\\n",
       "count  450.000000    450.000000         450.000000         450.000000   \n",
       "mean     5.066667  10453.433333       33812.835556          15.155242   \n",
       "std      4.231602  18079.904840       50535.074173           4.220602   \n",
       "min      1.000000    290.000000         400.000000           5.007822   \n",
       "25%      3.000000    465.000000        2700.000000          13.965063   \n",
       "50%      4.000000   1450.000000        5700.000000          16.577766   \n",
       "75%      6.000000  10100.000000       53200.000000          18.114718   \n",
       "max     31.000000  60100.000000      196400.000000          19.992407   \n",
       "\n",
       "       Discount Amount  Net Sales Value  \n",
       "count       450.000000       450.000000  \n",
       "mean       3346.499424     30466.336131  \n",
       "std        4509.902963     46358.656624  \n",
       "min          69.177942       326.974801  \n",
       "25%         460.459304      2202.208645  \n",
       "50%         988.933733      4677.788059  \n",
       "75%        5316.495427     47847.912852  \n",
       "max       25738.022194    179507.479049  "
      ]
     },
     "execution_count": 7,
     "metadata": {},
     "output_type": "execute_result"
    }
   ],
   "source": [
    "df.describe()"
   ]
  },
  {
   "cell_type": "markdown",
   "id": "57b0b122",
   "metadata": {},
   "source": [
    "# Descriptive Analysis for Numerical Columns"
   ]
  },
  {
   "cell_type": "code",
   "execution_count": 8,
   "id": "41c10b1f",
   "metadata": {},
   "outputs": [],
   "source": [
    "import warnings\n",
    "warnings.filterwarnings('ignore')"
   ]
  },
  {
   "cell_type": "code",
   "execution_count": 9,
   "id": "6aadc7ac",
   "metadata": {},
   "outputs": [
    {
     "data": {
      "text/plain": [
       "Volume                   5.066667\n",
       "Avg Price            10453.433333\n",
       "Total Sales Value    33812.835556\n",
       "Discount Rate (%)       15.155242\n",
       "Discount Amount       3346.499424\n",
       "Net Sales Value      30466.336131\n",
       "dtype: float64"
      ]
     },
     "execution_count": 9,
     "metadata": {},
     "output_type": "execute_result"
    }
   ],
   "source": [
    "# mean\n",
    "df.mean()"
   ]
  },
  {
   "cell_type": "code",
   "execution_count": 10,
   "id": "6961f226",
   "metadata": {},
   "outputs": [
    {
     "data": {
      "text/plain": [
       "Volume                  4.000000\n",
       "Avg Price            1450.000000\n",
       "Total Sales Value    5700.000000\n",
       "Discount Rate (%)      16.577766\n",
       "Discount Amount       988.933733\n",
       "Net Sales Value      4677.788059\n",
       "dtype: float64"
      ]
     },
     "execution_count": 10,
     "metadata": {},
     "output_type": "execute_result"
    }
   ],
   "source": [
    "# median\n",
    "df.median()"
   ]
  },
  {
   "cell_type": "code",
   "execution_count": 12,
   "id": "5f636ad2",
   "metadata": {},
   "outputs": [
    {
     "data": {
      "text/plain": [
       "Volume                   3.000000\n",
       "Avg Price              400.000000\n",
       "Total Sales Value    24300.000000\n",
       "Discount Rate (%)        5.007822\n",
       "Discount Amount         69.177942\n",
       "Net Sales Value        326.974801\n",
       "Name: 0, dtype: float64"
      ]
     },
     "execution_count": 12,
     "metadata": {},
     "output_type": "execute_result"
    }
   ],
   "source": [
    "#  mode values for numeric data\n",
    "df[['Volume','Avg Price','Total Sales Value','Discount Rate (%)','Discount Amount','Net Sales Value']].mode().iloc[0]"
   ]
  },
  {
   "cell_type": "code",
   "execution_count": 13,
   "id": "39cbd986",
   "metadata": {},
   "outputs": [
    {
     "data": {
      "text/plain": [
       "Volume                   4.231602\n",
       "Avg Price            18079.904840\n",
       "Total Sales Value    50535.074173\n",
       "Discount Rate (%)        4.220602\n",
       "Discount Amount       4509.902963\n",
       "Net Sales Value      46358.656624\n",
       "dtype: float64"
      ]
     },
     "execution_count": 13,
     "metadata": {},
     "output_type": "execute_result"
    }
   ],
   "source": [
    "# standard deviation values\n",
    "df.std()\n"
   ]
  },
  {
   "cell_type": "code",
   "execution_count": 17,
   "id": "d01dd8fa",
   "metadata": {},
   "outputs": [
    {
     "name": "stdout",
     "output_type": "stream",
     "text": [
      "                           Mean       Median          Mode  Standard Deviation\n",
      "Volume                 5.066667     4.000000      3.000000            4.231602\n",
      "Avg Price          10453.433333  1450.000000    400.000000        18079.904840\n",
      "Total Sales Value  33812.835556  5700.000000  24300.000000        50535.074173\n",
      "Discount Rate (%)     15.155242    16.577766      5.007822            4.220602\n",
      "Discount Amount     3346.499424   988.933733     69.177942         4509.902963\n",
      "Net Sales Value    30466.336131  4677.788059    326.974801        46358.656624\n"
     ]
    }
   ],
   "source": [
    "# Identify numerical columns in the dataset\n",
    "numerical_columns = ['Volume', 'Avg Price', 'Total Sales Value', 'Discount Rate (%)', 'Discount Amount', 'Net Sales Value']\n",
    "\n",
    "# Calculating  basic statistics for numerical columns\n",
    "statistics = {\n",
    "    'Mean': df[numerical_columns].mean(),\n",
    "    'Median': df[numerical_columns].median(),\n",
    "    'Mode': df[numerical_columns].mode().iloc[0], \n",
    "    'Standard Deviation': df[numerical_columns].std()\n",
    "}\n",
    "\n",
    "# Converting  to a DataFrame for better readability\n",
    "stats_df = pd.DataFrame(statistics)\n",
    "print(stats_df)\n"
   ]
  },
  {
   "cell_type": "markdown",
   "id": "b5ad48bf",
   "metadata": {},
   "source": [
    "# DATA VISUALIZATION"
   ]
  },
  {
   "cell_type": "markdown",
   "id": "15a4412e",
   "metadata": {},
   "source": [
    "# Histograms"
   ]
  },
  {
   "cell_type": "code",
   "execution_count": 20,
   "id": "e96393bd",
   "metadata": {},
   "outputs": [
    {
     "data": {
      "image/png": "[encoded data removed]",
      "text/plain": [
       "<Figure size 1008x720 with 6 Axes>"
      ]
     },
     "metadata": {
      "needs_background": "light"
     },
     "output_type": "display_data"
    }
   ],
   "source": [
    "import matplotlib.pyplot as plt\n",
    "import seaborn as sns\n",
    "\n",
    "# Setting up the plotting environment\n",
    "plt.figure(figsize=(14, 10))\n",
    "\n",
    "# Plot histograms for each numerical column\n",
    "for i, col in enumerate(numerical_columns, 1):\n",
    "    plt.subplot(3, 2, i)\n",
    "    sns.histplot(df[col], kde=True, bins=20)\n",
    "    plt.title(f'Distribution of {col}')\n",
    "    plt.xlabel(col)\n",
    "    plt.ylabel('Frequency')\n",
    "\n",
    "plt.tight_layout()\n",
    "plt.show()"
   ]
  },
  {
   "cell_type": "markdown",
   "id": "a28e09fb",
   "metadata": {},
   "source": [
    "# ANALYSIS"
   ]
  },
  {
   "cell_type": "markdown",
   "id": "0c29b94e",
   "metadata": {},
   "source": [
    "# VOLUME"
   ]
  },
  {
   "cell_type": "markdown",
   "id": "f2269605",
   "metadata": {},
   "source": [
    "Skewness  : The mean is higher than the median, indicating a right-skewed distribution. This suggests that there are a number of transactions with higher volumes that are pulling the mean upward.\n",
    "    \n",
    "Outliers  : The high standard deviation (4.23) compared to the mean indicates that there is considerable variability in volume. This variability, along with the difference between the mean and median, suggests the presence of outliers.\n",
    "    \n",
    "Inference : Most transactions are around 3 to 4 units, but there are some transactions with significantly higher volumes, which creates a right-skewed distribution."
   ]
  },
  {
   "cell_type": "markdown",
   "id": "24387c6a",
   "metadata": {},
   "source": [
    "# Avg Price"
   ]
  },
  {
   "cell_type": "markdown",
   "id": "780a5560",
   "metadata": {},
   "source": [
    "Skewness  : The mean is much higher than the median, indicating a significant right skew. This suggests that most prices are clustered around lower values (e.g., mode at 400), but there are a few very high prices that are skewing the mean.\n",
    "    \n",
    "Outliers  : The very high standard deviation compared to the mean implies that there are large fluctuations in the average price, likely due to some outliers.\n",
    "    \n",
    "Inference : The data shows a concentration of lower prices with a few transactions at very high prices, creating a highly skewed distribution with potential outliers."
   ]
  },
  {
   "cell_type": "markdown",
   "id": "add931e0",
   "metadata": {},
   "source": [
    "# Total Sales Value"
   ]
  },
  {
   "cell_type": "markdown",
   "id": "3c9e855e",
   "metadata": {},
   "source": [
    "Skewness  : The mean is significantly higher than the median, which indicates a right-skewed distribution. This suggests that while most transactions have lower total sales values, a few transactions with very high values are increasing the mean.\n",
    "    \n",
    "Outliers  : The high standard deviation relative to the mean suggests significant variability and the presence of extreme values affecting the total sales value.\n",
    "    \n",
    "Inference : The distribution is right-skewed with a concentration of lower values and some high-value transactions that create a long right tail."
   ]
  },
  {
   "cell_type": "markdown",
   "id": "e3d6fc7b",
   "metadata": {},
   "source": [
    "# Discount Rate(%)"
   ]
  },
  {
   "cell_type": "markdown",
   "id": "6007a56f",
   "metadata": {},
   "source": [
    "Skewness  : The mean is slightly less than the median, suggesting a slight left skew. Most discount rates are clustered around higher values, with a lower frequency of very small discount rates.\n",
    "    \n",
    "Outliers  : The standard deviation is relatively small compared to the mean, suggesting less variability and fewer extreme values in discount rates.\n",
    "    \n",
    "Inference : The discount rates are generally clustered around the median with a few occurrences of lower rates, indicating a somewhat uniform but slightly left-skewed distribution."
   ]
  },
  {
   "cell_type": "markdown",
   "id": "91c99e8d",
   "metadata": {},
   "source": [
    "# Discount Amount"
   ]
  },
  {
   "cell_type": "markdown",
   "id": "b0692ed3",
   "metadata": {},
   "source": [
    "Skewness  : The mean is much higher than the median, indicating a right-skewed distribution. This suggests that while most discount amounts are lower, some very high discounts are skewing the mean.\n",
    "    \n",
    "Outliers  : The large standard deviation relative to the mean indicates significant variability, likely due to the presence of outliers with very high discount amounts.\n",
    "    \n",
    "Inference : The distribution is right-skewed with a concentration of lower discount amounts and some very high values affecting the mean."
   ]
  },
  {
   "cell_type": "markdown",
   "id": "d9146801",
   "metadata": {},
   "source": [
    "# Net Sales Value"
   ]
  },
  {
   "cell_type": "markdown",
   "id": "82006eed",
   "metadata": {},
   "source": [
    "Skewness  : The mean is significantly higher than the median, indicating a strong right skew. This implies that the majority of net sales values are much lower than the mean, with a few very high values skewing the distribution.\n",
    "    \n",
    "Outliers  : The extremely high standard deviation compared to the mean indicates that there are substantial outliers and extreme values in net sales.\n",
    "    \n",
    "Inference : The net sales values show a right-skewed distribution with a concentration of lower values and several high-value transactions significantly influencing the mean."
   ]
  },
  {
   "cell_type": "markdown",
   "id": "7840c8d1",
   "metadata": {},
   "source": [
    "# Box Plots"
   ]
  },
  {
   "cell_type": "code",
   "execution_count": 21,
   "id": "dea5cee6",
   "metadata": {},
   "outputs": [
    {
     "data": {
      "image/png": "[encoded data removed]",
      "text/plain": [
       "<Figure size 1008x720 with 6 Axes>"
      ]
     },
     "metadata": {
      "needs_background": "light"
     },
     "output_type": "display_data"
    }
   ],
   "source": [
    "# Boxplots to identify outliers\n",
    "plt.figure(figsize=(14, 10))\n",
    "for i, col in enumerate(numerical_columns, 1):\n",
    "    plt.subplot(3, 2, i)\n",
    "    sns.boxplot(x=df[col])\n",
    "    plt.title(f'Boxplot of {col}')\n",
    "\n",
    "plt.tight_layout()\n",
    "plt.show()\n"
   ]
  },
  {
   "cell_type": "markdown",
   "id": "b54befd5",
   "metadata": {},
   "source": [
    "# Analysis"
   ]
  },
  {
   "cell_type": "code",
   "execution_count": null,
   "id": "9c5473e4",
   "metadata": {},
   "outputs": [],
   "source": [
    "Skewed Distributions:\n",
    "    \n",
    "Most variables appear to be right-skewed, indicated by the mean being higher than the median. This suggests that a few extreme values are pulling the mean upward.\n",
    "\n",
    "Outliers:\n",
    "    \n",
    "Boxplots will likely show outliers, especially in Avg Price, Total Sales Value, and Net Sales Value. The extreme values can significantly influence the mean and standard deviation.\n",
    "\n",
    "Distribution Insights:\n",
    "    \n",
    "The presence of skewness and outliers should be considered when performing further analysis or building models, as they can impact the interpretation and results."
   ]
  },
  {
   "cell_type": "markdown",
   "id": "7d8d86c7",
   "metadata": {},
   "source": [
    "# Bar Chart Analysis for Categorical Column"
   ]
  },
  {
   "cell_type": "code",
   "execution_count": 37,
   "id": "ce5fecd2",
   "metadata": {},
   "outputs": [],
   "source": [
    "# Identify categorical columns\n",
    "categorical_cols = df.select_dtypes(include=['object']).columns"
   ]
  },
  {
   "cell_type": "code",
   "execution_count": 38,
   "id": "34b29228",
   "metadata": {},
   "outputs": [
    {
     "data": {
      "text/plain": [
       "Index(['Date', 'Day', 'SKU', 'City', 'BU', 'Brand', 'Model'], dtype='object')"
      ]
     },
     "execution_count": 38,
     "metadata": {},
     "output_type": "execute_result"
    }
   ],
   "source": [
    "categorical_cols"
   ]
  },
  {
   "cell_type": "code",
   "execution_count": 35,
   "id": "3c3119f8",
   "metadata": {},
   "outputs": [
    {
     "data": {
      "image/png": "[encoded data removed]",
      "text/plain": [
       "<Figure size 720x432 with 1 Axes>"
      ]
     },
     "metadata": {
      "needs_background": "light"
     },
     "output_type": "display_data"
    },
    {
     "data": {
      "image/png": "[encoded data removed]",
      "text/plain": [
       "<Figure size 720x432 with 1 Axes>"
      ]
     },
     "metadata": {
      "needs_background": "light"
     },
     "output_type": "display_data"
    },
    {
     "data": {
      "image/png": "[encoded data removed]",
      "text/plain": [
       "<Figure size 720x432 with 1 Axes>"
      ]
     },
     "metadata": {
      "needs_background": "light"
     },
     "output_type": "display_data"
    },
    {
     "data": {
      "image/png": "[encoded data removed]",
      "text/plain": [
       "<Figure size 720x432 with 1 Axes>"
      ]
     },
     "metadata": {
      "needs_background": "light"
     },
     "output_type": "display_data"
    },
    {
     "data": {
      "image/png": "[encoded data removed]",
      "text/plain": [
       "<Figure size 720x432 with 1 Axes>"
      ]
     },
     "metadata": {
      "needs_background": "light"
     },
     "output_type": "display_data"
    },
    {
     "data": {
      "image/png": "[encoded data removed]",
      "text/plain": [
       "<Figure size 720x432 with 1 Axes>"
      ]
     },
     "metadata": {
      "needs_background": "light"
     },
     "output_type": "display_data"
    },
    {
     "data": {
      "image/png": "[encoded data removed]",
      "text/plain": [
       "<Figure size 720x432 with 1 Axes>"
      ]
     },
     "metadata": {
      "needs_background": "light"
     },
     "output_type": "display_data"
    }
   ],
   "source": [
    "# Plot bar charts for categorical columns\n",
    "for col in categorical_cols:\n",
    "    plt.figure(figsize=(10, 6))\n",
    "    df[col].value_counts().plot(kind='bar', color='skyblue')\n",
    "    plt.title(f'Bar Chart of {col}')\n",
    "    plt.xlabel(col)\n",
    "    plt.ylabel('Count')\n",
    "    plt.xticks(rotation=45)\n",
    "    plt.show()"
   ]
  },
  {
   "cell_type": "code",
   "execution_count": 54,
   "id": "5b84a602",
   "metadata": {},
   "outputs": [
    {
     "name": "stdout",
     "output_type": "stream",
     "text": [
      "\n",
      "Insights for Model:\n",
      "RU-10             15\n",
      "RU-9 Plus         15\n",
      "M-Formals         15\n",
      "W-Lounge          15\n",
      "W-Western         15\n",
      "M-Casuals         15\n",
      "M-Jeans           15\n",
      "W-Inners          15\n",
      "W-Casuals         15\n",
      "M- Inners         15\n",
      "M- T Shirts       15\n",
      "Gear BB Cream     15\n",
      "Gear Shampoo      15\n",
      "Gear Cream        15\n",
      "Gear Oil          15\n",
      "Vedic Oil         15\n",
      "Babaji Cream      15\n",
      "Babaji Shampoo    15\n",
      "Vedic Shampoo     15\n",
      "Vedic Cream       15\n",
      "Babaji Oil        15\n",
      "O-11              15\n",
      "O-10              15\n",
      "S-21              15\n",
      "S-20              15\n",
      "RU-9              15\n",
      "YM-98             15\n",
      "YM-99 Plus        15\n",
      "YM-99             15\n",
      "M-Shoes           15\n",
      "Name: Model, dtype: int64\n"
     ]
    }
   ],
   "source": [
    "# insights for 'Model' column)\n",
    "print(f\"\\nInsights for Model:\\n{df['Model'].value_counts()}\")"
   ]
  },
  {
   "cell_type": "code",
   "execution_count": 41,
   "id": "832511ae",
   "metadata": {},
   "outputs": [
    {
     "name": "stdout",
     "output_type": "stream",
     "text": [
      "\n",
      "Insights for Date:\n",
      "01-04-2021    30\n",
      "02-04-2021    30\n",
      "03-04-2021    30\n",
      "04-04-2021    30\n",
      "05-04-2021    30\n",
      "06-04-2021    30\n",
      "07-04-2021    30\n",
      "08-04-2021    30\n",
      "09-04-2021    30\n",
      "10-04-2021    30\n",
      "11-04-2021    30\n",
      "12-04-2021    30\n",
      "13-04-2021    30\n",
      "14-04-2021    30\n",
      "15-04-2021    30\n",
      "Name: Date, dtype: int64\n"
     ]
    }
   ],
   "source": [
    "print(f\"\\nInsights for Date:\\n{df['Date'].value_counts()}\")"
   ]
  },
  {
   "cell_type": "code",
   "execution_count": 42,
   "id": "35031fa0",
   "metadata": {},
   "outputs": [
    {
     "name": "stdout",
     "output_type": "stream",
     "text": [
      "\n",
      "Insights for City:\n",
      "C    450\n",
      "Name: City, dtype: int64\n"
     ]
    }
   ],
   "source": [
    "print(f\"\\nInsights for City:\\n{df['City'].value_counts()}\")"
   ]
  },
  {
   "cell_type": "code",
   "execution_count": 43,
   "id": "d87bde02",
   "metadata": {},
   "outputs": [
    {
     "name": "stdout",
     "output_type": "stream",
     "text": [
      "\n",
      "Insights for Day:\n",
      "Thursday     90\n",
      "Friday       60\n",
      "Saturday     60\n",
      "Sunday       60\n",
      "Monday       60\n",
      "Tuesday      60\n",
      "Wednesday    60\n",
      "Name: Day, dtype: int64\n"
     ]
    }
   ],
   "source": [
    "print(f\"\\nInsights for Day:\\n{df['Day'].value_counts()}\")"
   ]
  },
  {
   "cell_type": "code",
   "execution_count": 44,
   "id": "6ac704ab",
   "metadata": {},
   "outputs": [
    {
     "name": "stdout",
     "output_type": "stream",
     "text": [
      "\n",
      "Insights for SKU:\n",
      "M01    15\n",
      "M02    15\n",
      "L09    15\n",
      "L08    15\n",
      "L07    15\n",
      "L06    15\n",
      "L05    15\n",
      "L04    15\n",
      "L03    15\n",
      "L02    15\n",
      "L01    15\n",
      "F10    15\n",
      "F09    15\n",
      "F08    15\n",
      "F07    15\n",
      "F06    15\n",
      "F05    15\n",
      "F04    15\n",
      "F03    15\n",
      "F02    15\n",
      "F01    15\n",
      "M10    15\n",
      "M09    15\n",
      "M08    15\n",
      "M07    15\n",
      "M06    15\n",
      "M05    15\n",
      "M04    15\n",
      "M03    15\n",
      "L10    15\n",
      "Name: SKU, dtype: int64\n"
     ]
    }
   ],
   "source": [
    "print(f\"\\nInsights for SKU:\\n{df['SKU'].value_counts()}\")"
   ]
  },
  {
   "cell_type": "code",
   "execution_count": 45,
   "id": "06d6e8ba",
   "metadata": {},
   "outputs": [
    {
     "name": "stdout",
     "output_type": "stream",
     "text": [
      "\n",
      "Insights for Brand:\n",
      "Jeera      90\n",
      "Gear       60\n",
      "Viva       60\n",
      "RealU      45\n",
      "YouM       45\n",
      "Babaji     45\n",
      "Vedic      45\n",
      "Sumsang    30\n",
      "Orange     30\n",
      "Name: Brand, dtype: int64\n"
     ]
    }
   ],
   "source": [
    "print(f\"\\nInsights for Brand:\\n{df['Brand'].value_counts()}\")"
   ]
  },
  {
   "cell_type": "code",
   "execution_count": 46,
   "id": "6adb8f0e",
   "metadata": {},
   "outputs": [
    {
     "name": "stdout",
     "output_type": "stream",
     "text": [
      "\n",
      "Insights for BU:\n",
      "Mobiles      150\n",
      "FMCG         150\n",
      "Lifestyle    150\n",
      "Name: BU, dtype: int64\n"
     ]
    }
   ],
   "source": [
    "print(f\"\\nInsights for BU:\\n{df['BU'].value_counts()}\")"
   ]
  },
  {
   "cell_type": "markdown",
   "id": "c64c71eb",
   "metadata": {},
   "source": [
    "# Standardization of Numerical Variables\n"
   ]
  },
  {
   "cell_type": "markdown",
   "id": "29ad6781",
   "metadata": {},
   "source": [
    "Standardization, or z-score normalization, is a technique that rescales features to have a mean of 0 and a standard deviation of 1. It ensures that all features contribute equally to a machine learning model, improving convergence and performance. The formula for standardization is:\n",
    "𝑧=(𝑥−𝜇)/𝜎\n",
    "where \n",
    "x is the original value, \n",
    "μ is the mean, and \n",
    "σ is the standard deviation."
   ]
  },
  {
   "cell_type": "code",
   "execution_count": 22,
   "id": "a69522e7",
   "metadata": {},
   "outputs": [],
   "source": [
    "from scipy import stats\n",
    "from sklearn.preprocessing import StandardScaler\n",
    "from numpy import set_printoptions"
   ]
  },
  {
   "cell_type": "code",
   "execution_count": 29,
   "id": "79057535",
   "metadata": {},
   "outputs": [],
   "source": [
    "standard = df[['Volume','Avg Price','Total Sales Value','Discount Rate (%)','Discount Amount','Net Sales Value']].values\n",
    "scaler = StandardScaler()\n",
    "rescaledX=scaler.fit_transform(standard)"
   ]
  },
  {
   "cell_type": "code",
   "execution_count": 30,
   "id": "3a1e3c8e",
   "metadata": {},
   "outputs": [
    {
     "name": "stdout",
     "output_type": "stream",
     "text": [
      "     Volume  Avg Price  Total Sales Value  Discount Rate (%)  Discount Amount  \\\n",
      "0        15      12100             181500          11.654820     21153.498820   \n",
      "1        10      10100             101000          11.560498     11676.102961   \n",
      "2         7      16100             112700           9.456886     10657.910157   \n",
      "3         6      20100             120600           6.935385      8364.074702   \n",
      "4         3       8100              24300          17.995663      4372.946230   \n",
      "..      ...        ...                ...                ...              ...   \n",
      "445       2       1300               2600          15.475687       402.367873   \n",
      "446       6       2600              15600          17.057027      2660.896242   \n",
      "447       2       1600               3200          18.965550       606.897606   \n",
      "448       3       1900               5700          16.793014       957.201826   \n",
      "449       1       3100               3100          15.333300       475.332295   \n",
      "\n",
      "     Net Sales Value  \n",
      "0      160346.501180  \n",
      "1       89323.897039  \n",
      "2      102042.089843  \n",
      "3      112235.925298  \n",
      "4       19927.053770  \n",
      "..               ...  \n",
      "445      2197.632127  \n",
      "446     12939.103758  \n",
      "447      2593.102394  \n",
      "448      4742.798174  \n",
      "449      2624.667705  \n",
      "\n",
      "[450 rows x 6 columns]\n"
     ]
    }
   ],
   "source": [
    "# Before Standardization\n",
    "print(df[['Volume','Avg Price','Total Sales Value','Discount Rate (%)','Discount Amount','Net Sales Value']])"
   ]
  },
  {
   "cell_type": "code",
   "execution_count": 49,
   "id": "4be24a7f",
   "metadata": {},
   "outputs": [
    {
     "name": "stdout",
     "output_type": "stream",
     "text": [
      "\n",
      "After Standardization:\n",
      "[[ 2.35  0.09  2.93 -0.83  3.95  2.8 ]\n",
      " [ 1.17 -0.02  1.33 -0.85  1.85  1.27]\n",
      " [ 0.46  0.31  1.56 -1.35  1.62  1.55]\n",
      " ...\n",
      " [-0.73 -0.49 -0.61  0.9  -0.61 -0.6 ]\n",
      " [-0.49 -0.47 -0.56  0.39 -0.53 -0.56]\n",
      " [-0.96 -0.41 -0.61  0.04 -0.64 -0.6 ]]\n"
     ]
    }
   ],
   "source": [
    "# After Standardization\n",
    "print(\"\\nAfter Standardization:\")\n",
    "set_printoptions(precision=2)\n",
    "print(rescaledX[::])"
   ]
  },
  {
   "cell_type": "markdown",
   "id": "9aeea00f",
   "metadata": {},
   "source": [
    "# Conversion of Categorical Data into Dummy Variables"
   ]
  },
  {
   "cell_type": "code",
   "execution_count": 55,
   "id": "cfa70dbb",
   "metadata": {},
   "outputs": [
    {
     "name": "stdout",
     "output_type": "stream",
     "text": [
      "   Volume  Avg Price  Total Sales Value  Discount Rate (%)  Discount Amount  \\\n",
      "0      15      12100             181500          11.654820     21153.498820   \n",
      "1      10      10100             101000          11.560498     11676.102961   \n",
      "2       7      16100             112700           9.456886     10657.910157   \n",
      "3       6      20100             120600           6.935385      8364.074702   \n",
      "4       3       8100              24300          17.995663      4372.946230   \n",
      "\n",
      "   Net Sales Value  Date_01-04-2021  Date_02-04-2021  Date_03-04-2021  \\\n",
      "0    160346.501180                1                0                0   \n",
      "1     89323.897039                1                0                0   \n",
      "2    102042.089843                1                0                0   \n",
      "3    112235.925298                1                0                0   \n",
      "4     19927.053770                1                0                0   \n",
      "\n",
      "   Date_04-04-2021  ...  Model_Vedic Cream  Model_Vedic Oil  \\\n",
      "0                0  ...                  0                0   \n",
      "1                0  ...                  0                0   \n",
      "2                0  ...                  0                0   \n",
      "3                0  ...                  0                0   \n",
      "4                0  ...                  0                0   \n",
      "\n",
      "   Model_Vedic Shampoo  Model_W-Casuals  Model_W-Inners  Model_W-Lounge  \\\n",
      "0                    0                0               0               0   \n",
      "1                    0                0               0               0   \n",
      "2                    0                0               0               0   \n",
      "3                    0                0               0               0   \n",
      "4                    0                0               0               0   \n",
      "\n",
      "   Model_W-Western  Model_YM-98   Model_YM-99  Model_YM-99 Plus  \n",
      "0                0             0            0                 0  \n",
      "1                0             0            0                 0  \n",
      "2                0             0            1                 0  \n",
      "3                0             0            0                 1  \n",
      "4                0             1            0                 0  \n",
      "\n",
      "[5 rows x 101 columns]\n"
     ]
    }
   ],
   "source": [
    "# Identifying categorical columns in the dataset\n",
    "categorical_columns = ['Date', 'Day', 'SKU', 'City', 'BU', 'Brand', 'Model']\n",
    "\n",
    "# Applying one-hot encoding\n",
    "df_encoded = pd.get_dummies(df, columns=categorical_columns)\n",
    "print(df_encoded.head())\n"
   ]
  },
  {
   "cell_type": "markdown",
   "id": "f85bcd0f",
   "metadata": {},
   "source": [
    "# SUMMARY"
   ]
  },
  {
   "cell_type": "markdown",
   "id": "797e3249",
   "metadata": {},
   "source": [
    "Need of One-hot encoding:\n",
    "\n",
    "One-hot encoding, also known as creating dummy variables, is the process of converting categorical \n",
    "data into a binary (0 or 1) format. This is essential for machine learning models, which typically \n",
    "require numerical input. One-hot encoding ensures that each category is represented by an independent\n",
    "binary variable, avoiding any implied ordinal relationships among categories and improving model performance \n",
    "by allowing algorithms to handle categorical features effectively"
   ]
  },
  {
   "cell_type": "markdown",
   "id": "e5dfead8",
   "metadata": {},
   "source": [
    "Standardization : Ensures numerical variables are on the same scale, improving model performance.\n",
    "    \n",
    "One-Hot Encoding: Transforms categorical data into a suitable numerical format for ML algorithms."
   ]
  },
  {
   "cell_type": "code",
   "execution_count": null,
   "id": "3b8ca11e",
   "metadata": {},
   "outputs": [],
   "source": []
  }
 ],
 "metadata": {
  "kernelspec": {
   "display_name": "Python 3 (ipykernel)",
   "language": "python",
   "name": "python3"
  },
  "language_info": {
   "codemirror_mode": {
    "name": "ipython",
    "version": 3
   },
   "file_extension": ".py",
   "mimetype": "text/x-python",
   "name": "python",
   "nbconvert_exporter": "python",
   "pygments_lexer": "ipython3",
   "version": "3.9.12"
  }
 },
 "nbformat": 4,
 "nbformat_minor": 5
}
