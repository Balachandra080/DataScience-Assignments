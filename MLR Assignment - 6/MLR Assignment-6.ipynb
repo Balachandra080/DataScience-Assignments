{
 "cells": [
  {
   "cell_type": "markdown",
   "id": "3d08fb9e",
   "metadata": {},
   "source": [
    "# Multiple Linear Regression"
   ]
  },
  {
   "cell_type": "raw",
   "id": "f44227e7",
   "metadata": {},
   "source": [
    "Performing a multiple linear regression analysis to predict the price of Toyota corolla based on the given attributes."
   ]
  },
  {
   "cell_type": "markdown",
   "id": "27841cac",
   "metadata": {},
   "source": [
    "# Step 1 : Load the Dataset"
   ]
  },
  {
   "cell_type": "code",
   "execution_count": 30,
   "id": "f73a4987",
   "metadata": {},
   "outputs": [],
   "source": [
    "import pandas as pd\n",
    "import numpy as np\n",
    "import matplotlib.pyplot as plt\n",
    "import seaborn as sns"
   ]
  },
  {
   "cell_type": "code",
   "execution_count": 31,
   "id": "2ee5e2d7",
   "metadata": {},
   "outputs": [
    {
     "data": {
      "text/html": [
       "<div>\n",
       "<style scoped>\n",
       "    .dataframe tbody tr th:only-of-type {\n",
       "        vertical-align: middle;\n",
       "    }\n",
       "\n",
       "    .dataframe tbody tr th {\n",
       "        vertical-align: top;\n",
       "    }\n",
       "\n",
       "    .dataframe thead th {\n",
       "        text-align: right;\n",
       "    }\n",
       "</style>\n",
       "<table border=\"1\" class=\"dataframe\">\n",
       "  <thead>\n",
       "    <tr style=\"text-align: right;\">\n",
       "      <th></th>\n",
       "      <th>Price</th>\n",
       "      <th>Age_08_04</th>\n",
       "      <th>KM</th>\n",
       "      <th>Fuel_Type</th>\n",
       "      <th>HP</th>\n",
       "      <th>Automatic</th>\n",
       "      <th>cc</th>\n",
       "      <th>Doors</th>\n",
       "      <th>Cylinders</th>\n",
       "      <th>Gears</th>\n",
       "      <th>Weight</th>\n",
       "    </tr>\n",
       "  </thead>\n",
       "  <tbody>\n",
       "    <tr>\n",
       "      <th>0</th>\n",
       "      <td>13500</td>\n",
       "      <td>23</td>\n",
       "      <td>46986</td>\n",
       "      <td>Diesel</td>\n",
       "      <td>90</td>\n",
       "      <td>0</td>\n",
       "      <td>2000</td>\n",
       "      <td>3</td>\n",
       "      <td>4</td>\n",
       "      <td>5</td>\n",
       "      <td>1165</td>\n",
       "    </tr>\n",
       "    <tr>\n",
       "      <th>1</th>\n",
       "      <td>13750</td>\n",
       "      <td>23</td>\n",
       "      <td>72937</td>\n",
       "      <td>Diesel</td>\n",
       "      <td>90</td>\n",
       "      <td>0</td>\n",
       "      <td>2000</td>\n",
       "      <td>3</td>\n",
       "      <td>4</td>\n",
       "      <td>5</td>\n",
       "      <td>1165</td>\n",
       "    </tr>\n",
       "    <tr>\n",
       "      <th>2</th>\n",
       "      <td>13950</td>\n",
       "      <td>24</td>\n",
       "      <td>41711</td>\n",
       "      <td>Diesel</td>\n",
       "      <td>90</td>\n",
       "      <td>0</td>\n",
       "      <td>2000</td>\n",
       "      <td>3</td>\n",
       "      <td>4</td>\n",
       "      <td>5</td>\n",
       "      <td>1165</td>\n",
       "    </tr>\n",
       "    <tr>\n",
       "      <th>3</th>\n",
       "      <td>14950</td>\n",
       "      <td>26</td>\n",
       "      <td>48000</td>\n",
       "      <td>Diesel</td>\n",
       "      <td>90</td>\n",
       "      <td>0</td>\n",
       "      <td>2000</td>\n",
       "      <td>3</td>\n",
       "      <td>4</td>\n",
       "      <td>5</td>\n",
       "      <td>1165</td>\n",
       "    </tr>\n",
       "    <tr>\n",
       "      <th>4</th>\n",
       "      <td>13750</td>\n",
       "      <td>30</td>\n",
       "      <td>38500</td>\n",
       "      <td>Diesel</td>\n",
       "      <td>90</td>\n",
       "      <td>0</td>\n",
       "      <td>2000</td>\n",
       "      <td>3</td>\n",
       "      <td>4</td>\n",
       "      <td>5</td>\n",
       "      <td>1170</td>\n",
       "    </tr>\n",
       "    <tr>\n",
       "      <th>...</th>\n",
       "      <td>...</td>\n",
       "      <td>...</td>\n",
       "      <td>...</td>\n",
       "      <td>...</td>\n",
       "      <td>...</td>\n",
       "      <td>...</td>\n",
       "      <td>...</td>\n",
       "      <td>...</td>\n",
       "      <td>...</td>\n",
       "      <td>...</td>\n",
       "      <td>...</td>\n",
       "    </tr>\n",
       "    <tr>\n",
       "      <th>1431</th>\n",
       "      <td>7500</td>\n",
       "      <td>69</td>\n",
       "      <td>20544</td>\n",
       "      <td>Petrol</td>\n",
       "      <td>86</td>\n",
       "      <td>0</td>\n",
       "      <td>1300</td>\n",
       "      <td>3</td>\n",
       "      <td>4</td>\n",
       "      <td>5</td>\n",
       "      <td>1025</td>\n",
       "    </tr>\n",
       "    <tr>\n",
       "      <th>1432</th>\n",
       "      <td>10845</td>\n",
       "      <td>72</td>\n",
       "      <td>19000</td>\n",
       "      <td>Petrol</td>\n",
       "      <td>86</td>\n",
       "      <td>0</td>\n",
       "      <td>1300</td>\n",
       "      <td>3</td>\n",
       "      <td>4</td>\n",
       "      <td>5</td>\n",
       "      <td>1015</td>\n",
       "    </tr>\n",
       "    <tr>\n",
       "      <th>1433</th>\n",
       "      <td>8500</td>\n",
       "      <td>71</td>\n",
       "      <td>17016</td>\n",
       "      <td>Petrol</td>\n",
       "      <td>86</td>\n",
       "      <td>0</td>\n",
       "      <td>1300</td>\n",
       "      <td>3</td>\n",
       "      <td>4</td>\n",
       "      <td>5</td>\n",
       "      <td>1015</td>\n",
       "    </tr>\n",
       "    <tr>\n",
       "      <th>1434</th>\n",
       "      <td>7250</td>\n",
       "      <td>70</td>\n",
       "      <td>16916</td>\n",
       "      <td>Petrol</td>\n",
       "      <td>86</td>\n",
       "      <td>0</td>\n",
       "      <td>1300</td>\n",
       "      <td>3</td>\n",
       "      <td>4</td>\n",
       "      <td>5</td>\n",
       "      <td>1015</td>\n",
       "    </tr>\n",
       "    <tr>\n",
       "      <th>1435</th>\n",
       "      <td>6950</td>\n",
       "      <td>76</td>\n",
       "      <td>1</td>\n",
       "      <td>Petrol</td>\n",
       "      <td>110</td>\n",
       "      <td>0</td>\n",
       "      <td>1600</td>\n",
       "      <td>5</td>\n",
       "      <td>4</td>\n",
       "      <td>5</td>\n",
       "      <td>1114</td>\n",
       "    </tr>\n",
       "  </tbody>\n",
       "</table>\n",
       "<p>1436 rows × 11 columns</p>\n",
       "</div>"
      ],
      "text/plain": [
       "      Price  Age_08_04     KM Fuel_Type   HP  Automatic    cc  Doors  \\\n",
       "0     13500         23  46986    Diesel   90          0  2000      3   \n",
       "1     13750         23  72937    Diesel   90          0  2000      3   \n",
       "2     13950         24  41711    Diesel   90          0  2000      3   \n",
       "3     14950         26  48000    Diesel   90          0  2000      3   \n",
       "4     13750         30  38500    Diesel   90          0  2000      3   \n",
       "...     ...        ...    ...       ...  ...        ...   ...    ...   \n",
       "1431   7500         69  20544    Petrol   86          0  1300      3   \n",
       "1432  10845         72  19000    Petrol   86          0  1300      3   \n",
       "1433   8500         71  17016    Petrol   86          0  1300      3   \n",
       "1434   7250         70  16916    Petrol   86          0  1300      3   \n",
       "1435   6950         76      1    Petrol  110          0  1600      5   \n",
       "\n",
       "      Cylinders  Gears  Weight  \n",
       "0             4      5    1165  \n",
       "1             4      5    1165  \n",
       "2             4      5    1165  \n",
       "3             4      5    1165  \n",
       "4             4      5    1170  \n",
       "...         ...    ...     ...  \n",
       "1431          4      5    1025  \n",
       "1432          4      5    1015  \n",
       "1433          4      5    1015  \n",
       "1434          4      5    1015  \n",
       "1435          4      5    1114  \n",
       "\n",
       "[1436 rows x 11 columns]"
      ]
     },
     "execution_count": 31,
     "metadata": {},
     "output_type": "execute_result"
    }
   ],
   "source": [
    "df = pd.read_csv(\"C:\\\\Users\\\\Kalisetti Balachandu\\\\OneDrive\\\\Desktop\\\\DATA SCIENCE\\\\MLR\\\\ToyotaCorolla - MLR.csv\")\n",
    "df"
   ]
  },
  {
   "cell_type": "code",
   "execution_count": 32,
   "id": "c3a0dc7c",
   "metadata": {},
   "outputs": [
    {
     "data": {
      "text/html": [
       "<div>\n",
       "<style scoped>\n",
       "    .dataframe tbody tr th:only-of-type {\n",
       "        vertical-align: middle;\n",
       "    }\n",
       "\n",
       "    .dataframe tbody tr th {\n",
       "        vertical-align: top;\n",
       "    }\n",
       "\n",
       "    .dataframe thead th {\n",
       "        text-align: right;\n",
       "    }\n",
       "</style>\n",
       "<table border=\"1\" class=\"dataframe\">\n",
       "  <thead>\n",
       "    <tr style=\"text-align: right;\">\n",
       "      <th></th>\n",
       "      <th>Price</th>\n",
       "      <th>Age_08_04</th>\n",
       "      <th>KM</th>\n",
       "      <th>Fuel_Type</th>\n",
       "      <th>HP</th>\n",
       "      <th>Automatic</th>\n",
       "      <th>cc</th>\n",
       "      <th>Doors</th>\n",
       "      <th>Cylinders</th>\n",
       "      <th>Gears</th>\n",
       "      <th>Weight</th>\n",
       "    </tr>\n",
       "  </thead>\n",
       "  <tbody>\n",
       "    <tr>\n",
       "      <th>0</th>\n",
       "      <td>13500</td>\n",
       "      <td>23</td>\n",
       "      <td>46986</td>\n",
       "      <td>Diesel</td>\n",
       "      <td>90</td>\n",
       "      <td>0</td>\n",
       "      <td>2000</td>\n",
       "      <td>3</td>\n",
       "      <td>4</td>\n",
       "      <td>5</td>\n",
       "      <td>1165</td>\n",
       "    </tr>\n",
       "    <tr>\n",
       "      <th>1</th>\n",
       "      <td>13750</td>\n",
       "      <td>23</td>\n",
       "      <td>72937</td>\n",
       "      <td>Diesel</td>\n",
       "      <td>90</td>\n",
       "      <td>0</td>\n",
       "      <td>2000</td>\n",
       "      <td>3</td>\n",
       "      <td>4</td>\n",
       "      <td>5</td>\n",
       "      <td>1165</td>\n",
       "    </tr>\n",
       "    <tr>\n",
       "      <th>2</th>\n",
       "      <td>13950</td>\n",
       "      <td>24</td>\n",
       "      <td>41711</td>\n",
       "      <td>Diesel</td>\n",
       "      <td>90</td>\n",
       "      <td>0</td>\n",
       "      <td>2000</td>\n",
       "      <td>3</td>\n",
       "      <td>4</td>\n",
       "      <td>5</td>\n",
       "      <td>1165</td>\n",
       "    </tr>\n",
       "    <tr>\n",
       "      <th>3</th>\n",
       "      <td>14950</td>\n",
       "      <td>26</td>\n",
       "      <td>48000</td>\n",
       "      <td>Diesel</td>\n",
       "      <td>90</td>\n",
       "      <td>0</td>\n",
       "      <td>2000</td>\n",
       "      <td>3</td>\n",
       "      <td>4</td>\n",
       "      <td>5</td>\n",
       "      <td>1165</td>\n",
       "    </tr>\n",
       "    <tr>\n",
       "      <th>4</th>\n",
       "      <td>13750</td>\n",
       "      <td>30</td>\n",
       "      <td>38500</td>\n",
       "      <td>Diesel</td>\n",
       "      <td>90</td>\n",
       "      <td>0</td>\n",
       "      <td>2000</td>\n",
       "      <td>3</td>\n",
       "      <td>4</td>\n",
       "      <td>5</td>\n",
       "      <td>1170</td>\n",
       "    </tr>\n",
       "  </tbody>\n",
       "</table>\n",
       "</div>"
      ],
      "text/plain": [
       "   Price  Age_08_04     KM Fuel_Type  HP  Automatic    cc  Doors  Cylinders  \\\n",
       "0  13500         23  46986    Diesel  90          0  2000      3          4   \n",
       "1  13750         23  72937    Diesel  90          0  2000      3          4   \n",
       "2  13950         24  41711    Diesel  90          0  2000      3          4   \n",
       "3  14950         26  48000    Diesel  90          0  2000      3          4   \n",
       "4  13750         30  38500    Diesel  90          0  2000      3          4   \n",
       "\n",
       "   Gears  Weight  \n",
       "0      5    1165  \n",
       "1      5    1165  \n",
       "2      5    1165  \n",
       "3      5    1165  \n",
       "4      5    1170  "
      ]
     },
     "execution_count": 32,
     "metadata": {},
     "output_type": "execute_result"
    }
   ],
   "source": [
    "df.head()"
   ]
  },
  {
   "cell_type": "code",
   "execution_count": 33,
   "id": "2325e732",
   "metadata": {},
   "outputs": [
    {
     "name": "stdout",
     "output_type": "stream",
     "text": [
      "<class 'pandas.core.frame.DataFrame'>\n",
      "RangeIndex: 1436 entries, 0 to 1435\n",
      "Data columns (total 11 columns):\n",
      " #   Column     Non-Null Count  Dtype \n",
      "---  ------     --------------  ----- \n",
      " 0   Price      1436 non-null   int64 \n",
      " 1   Age_08_04  1436 non-null   int64 \n",
      " 2   KM         1436 non-null   int64 \n",
      " 3   Fuel_Type  1436 non-null   object\n",
      " 4   HP         1436 non-null   int64 \n",
      " 5   Automatic  1436 non-null   int64 \n",
      " 6   cc         1436 non-null   int64 \n",
      " 7   Doors      1436 non-null   int64 \n",
      " 8   Cylinders  1436 non-null   int64 \n",
      " 9   Gears      1436 non-null   int64 \n",
      " 10  Weight     1436 non-null   int64 \n",
      "dtypes: int64(10), object(1)\n",
      "memory usage: 123.5+ KB\n"
     ]
    }
   ],
   "source": [
    "df.info()"
   ]
  },
  {
   "cell_type": "code",
   "execution_count": 34,
   "id": "27fc47e6",
   "metadata": {},
   "outputs": [
    {
     "data": {
      "text/html": [
       "<div>\n",
       "<style scoped>\n",
       "    .dataframe tbody tr th:only-of-type {\n",
       "        vertical-align: middle;\n",
       "    }\n",
       "\n",
       "    .dataframe tbody tr th {\n",
       "        vertical-align: top;\n",
       "    }\n",
       "\n",
       "    .dataframe thead th {\n",
       "        text-align: right;\n",
       "    }\n",
       "</style>\n",
       "<table border=\"1\" class=\"dataframe\">\n",
       "  <thead>\n",
       "    <tr style=\"text-align: right;\">\n",
       "      <th></th>\n",
       "      <th>Price</th>\n",
       "      <th>Age_08_04</th>\n",
       "      <th>KM</th>\n",
       "      <th>HP</th>\n",
       "      <th>Automatic</th>\n",
       "      <th>cc</th>\n",
       "      <th>Doors</th>\n",
       "      <th>Cylinders</th>\n",
       "      <th>Gears</th>\n",
       "      <th>Weight</th>\n",
       "    </tr>\n",
       "  </thead>\n",
       "  <tbody>\n",
       "    <tr>\n",
       "      <th>count</th>\n",
       "      <td>1436.000000</td>\n",
       "      <td>1436.000000</td>\n",
       "      <td>1436.000000</td>\n",
       "      <td>1436.000000</td>\n",
       "      <td>1436.000000</td>\n",
       "      <td>1436.00000</td>\n",
       "      <td>1436.000000</td>\n",
       "      <td>1436.0</td>\n",
       "      <td>1436.000000</td>\n",
       "      <td>1436.00000</td>\n",
       "    </tr>\n",
       "    <tr>\n",
       "      <th>mean</th>\n",
       "      <td>10730.824513</td>\n",
       "      <td>55.947075</td>\n",
       "      <td>68533.259749</td>\n",
       "      <td>101.502089</td>\n",
       "      <td>0.055710</td>\n",
       "      <td>1576.85585</td>\n",
       "      <td>4.033426</td>\n",
       "      <td>4.0</td>\n",
       "      <td>5.026462</td>\n",
       "      <td>1072.45961</td>\n",
       "    </tr>\n",
       "    <tr>\n",
       "      <th>std</th>\n",
       "      <td>3626.964585</td>\n",
       "      <td>18.599988</td>\n",
       "      <td>37506.448872</td>\n",
       "      <td>14.981080</td>\n",
       "      <td>0.229441</td>\n",
       "      <td>424.38677</td>\n",
       "      <td>0.952677</td>\n",
       "      <td>0.0</td>\n",
       "      <td>0.188510</td>\n",
       "      <td>52.64112</td>\n",
       "    </tr>\n",
       "    <tr>\n",
       "      <th>min</th>\n",
       "      <td>4350.000000</td>\n",
       "      <td>1.000000</td>\n",
       "      <td>1.000000</td>\n",
       "      <td>69.000000</td>\n",
       "      <td>0.000000</td>\n",
       "      <td>1300.00000</td>\n",
       "      <td>2.000000</td>\n",
       "      <td>4.0</td>\n",
       "      <td>3.000000</td>\n",
       "      <td>1000.00000</td>\n",
       "    </tr>\n",
       "    <tr>\n",
       "      <th>25%</th>\n",
       "      <td>8450.000000</td>\n",
       "      <td>44.000000</td>\n",
       "      <td>43000.000000</td>\n",
       "      <td>90.000000</td>\n",
       "      <td>0.000000</td>\n",
       "      <td>1400.00000</td>\n",
       "      <td>3.000000</td>\n",
       "      <td>4.0</td>\n",
       "      <td>5.000000</td>\n",
       "      <td>1040.00000</td>\n",
       "    </tr>\n",
       "    <tr>\n",
       "      <th>50%</th>\n",
       "      <td>9900.000000</td>\n",
       "      <td>61.000000</td>\n",
       "      <td>63389.500000</td>\n",
       "      <td>110.000000</td>\n",
       "      <td>0.000000</td>\n",
       "      <td>1600.00000</td>\n",
       "      <td>4.000000</td>\n",
       "      <td>4.0</td>\n",
       "      <td>5.000000</td>\n",
       "      <td>1070.00000</td>\n",
       "    </tr>\n",
       "    <tr>\n",
       "      <th>75%</th>\n",
       "      <td>11950.000000</td>\n",
       "      <td>70.000000</td>\n",
       "      <td>87020.750000</td>\n",
       "      <td>110.000000</td>\n",
       "      <td>0.000000</td>\n",
       "      <td>1600.00000</td>\n",
       "      <td>5.000000</td>\n",
       "      <td>4.0</td>\n",
       "      <td>5.000000</td>\n",
       "      <td>1085.00000</td>\n",
       "    </tr>\n",
       "    <tr>\n",
       "      <th>max</th>\n",
       "      <td>32500.000000</td>\n",
       "      <td>80.000000</td>\n",
       "      <td>243000.000000</td>\n",
       "      <td>192.000000</td>\n",
       "      <td>1.000000</td>\n",
       "      <td>16000.00000</td>\n",
       "      <td>5.000000</td>\n",
       "      <td>4.0</td>\n",
       "      <td>6.000000</td>\n",
       "      <td>1615.00000</td>\n",
       "    </tr>\n",
       "  </tbody>\n",
       "</table>\n",
       "</div>"
      ],
      "text/plain": [
       "              Price    Age_08_04             KM           HP    Automatic  \\\n",
       "count   1436.000000  1436.000000    1436.000000  1436.000000  1436.000000   \n",
       "mean   10730.824513    55.947075   68533.259749   101.502089     0.055710   \n",
       "std     3626.964585    18.599988   37506.448872    14.981080     0.229441   \n",
       "min     4350.000000     1.000000       1.000000    69.000000     0.000000   \n",
       "25%     8450.000000    44.000000   43000.000000    90.000000     0.000000   \n",
       "50%     9900.000000    61.000000   63389.500000   110.000000     0.000000   \n",
       "75%    11950.000000    70.000000   87020.750000   110.000000     0.000000   \n",
       "max    32500.000000    80.000000  243000.000000   192.000000     1.000000   \n",
       "\n",
       "                cc        Doors  Cylinders        Gears      Weight  \n",
       "count   1436.00000  1436.000000     1436.0  1436.000000  1436.00000  \n",
       "mean    1576.85585     4.033426        4.0     5.026462  1072.45961  \n",
       "std      424.38677     0.952677        0.0     0.188510    52.64112  \n",
       "min     1300.00000     2.000000        4.0     3.000000  1000.00000  \n",
       "25%     1400.00000     3.000000        4.0     5.000000  1040.00000  \n",
       "50%     1600.00000     4.000000        4.0     5.000000  1070.00000  \n",
       "75%     1600.00000     5.000000        4.0     5.000000  1085.00000  \n",
       "max    16000.00000     5.000000        4.0     6.000000  1615.00000  "
      ]
     },
     "execution_count": 34,
     "metadata": {},
     "output_type": "execute_result"
    }
   ],
   "source": [
    "df.describe()"
   ]
  },
  {
   "cell_type": "code",
   "execution_count": 35,
   "id": "528bb96c",
   "metadata": {},
   "outputs": [
    {
     "data": {
      "text/plain": [
       "(1436, 11)"
      ]
     },
     "execution_count": 35,
     "metadata": {},
     "output_type": "execute_result"
    }
   ],
   "source": [
    "df.shape"
   ]
  },
  {
   "cell_type": "code",
   "execution_count": 36,
   "id": "6803f05c",
   "metadata": {},
   "outputs": [
    {
     "data": {
      "text/plain": [
       "Price         236\n",
       "Age_08_04      77\n",
       "KM           1263\n",
       "Fuel_Type       3\n",
       "HP             12\n",
       "Automatic       2\n",
       "cc             13\n",
       "Doors           4\n",
       "Cylinders       1\n",
       "Gears           4\n",
       "Weight         59\n",
       "dtype: int64"
      ]
     },
     "execution_count": 36,
     "metadata": {},
     "output_type": "execute_result"
    }
   ],
   "source": [
    "df.nunique()"
   ]
  },
  {
   "cell_type": "markdown",
   "id": "500168bb",
   "metadata": {},
   "source": [
    "# Checking for Missing Values"
   ]
  },
  {
   "cell_type": "code",
   "execution_count": 37,
   "id": "bb019c6a",
   "metadata": {},
   "outputs": [
    {
     "data": {
      "text/plain": [
       "Price        0\n",
       "Age_08_04    0\n",
       "KM           0\n",
       "Fuel_Type    0\n",
       "HP           0\n",
       "Automatic    0\n",
       "cc           0\n",
       "Doors        0\n",
       "Cylinders    0\n",
       "Gears        0\n",
       "Weight       0\n",
       "dtype: int64"
      ]
     },
     "execution_count": 37,
     "metadata": {},
     "output_type": "execute_result"
    }
   ],
   "source": [
    "df.isna().sum()"
   ]
  },
  {
   "cell_type": "markdown",
   "id": "442d4a29",
   "metadata": {},
   "source": [
    "# Step 2 : EDA"
   ]
  },
  {
   "cell_type": "code",
   "execution_count": 38,
   "id": "1a70176c",
   "metadata": {},
   "outputs": [
    {
     "data": {
      "image/png": "[encoded data removed]",
      "text/plain": [
       "<Figure size 1080x720 with 12 Axes>"
      ]
     },
     "metadata": {
      "needs_background": "light"
     },
     "output_type": "display_data"
    }
   ],
   "source": [
    "df.hist(bins=20, figsize=(15, 10))\n",
    "plt.show()"
   ]
  },
  {
   "cell_type": "raw",
   "id": "1afa424c",
   "metadata": {},
   "source": [
    "Price :\n",
    "\n",
    "The range of prices is quite broad, from 4,350 to $32,500. The mean is somewhat higher than the median, indicating that there might be a few high-priced outliers driving the average up."
   ]
  },
  {
   "cell_type": "raw",
   "id": "601a7d39",
   "metadata": {},
   "source": [
    "Age_08_04:\n",
    "\n",
    "The dataset includes cars ranging from very new to quite old, with a significant number of older cars. The distribution is likely skewed toward older vehicles."
   ]
  },
  {
   "cell_type": "raw",
   "id": "e9e0da62",
   "metadata": {},
   "source": [
    "KM:\n",
    "\n",
    "The kilometers driven varies widely, indicating a mix of both low and high mileage cars. The high standard deviation suggests a diverse set of driving histories."
   ]
  },
  {
   "cell_type": "raw",
   "id": "fa416b34",
   "metadata": {},
   "source": [
    "HP :\n",
    "\n",
    "Most cars have horsepower between 90 and 110 HP, with a few high-power outliers. The distribution is slightly right-skewed due to high HP values."
   ]
  },
  {
   "cell_type": "raw",
   "id": "aac6d885",
   "metadata": {},
   "source": [
    "CC :\n",
    "\n",
    "Most cars have engine displacements between 1,400 cc and 1,600 cc. The maximum value is unusually high, likely an outlier.  "
   ]
  },
  {
   "cell_type": "markdown",
   "id": "3ddb2ee5",
   "metadata": {},
   "source": [
    "# BarPlot"
   ]
  },
  {
   "cell_type": "raw",
   "id": "5b9bf19f",
   "metadata": {},
   "source": [
    "A bar plot (or bar chart) is a graphical representation of data where individual bars represent the values of different categories. It is a versatile and widely used chart type in data analysis for comparing quantities across categories.We can use bar plots to visualize the frequency of categorical variables"
   ]
  },
  {
   "cell_type": "code",
   "execution_count": 40,
   "id": "c1e55897",
   "metadata": {},
   "outputs": [
    {
     "data": {
      "image/png": "[encoded data removed]",
      "text/plain": [
       "<Figure size 432x288 with 1 Axes>"
      ]
     },
     "metadata": {
      "needs_background": "light"
     },
     "output_type": "display_data"
    }
   ],
   "source": [
    "sns.countplot(x='Fuel_Type', data=df)\n",
    "plt.show()\n"
   ]
  },
  {
   "cell_type": "markdown",
   "id": "da8deef9",
   "metadata": {},
   "source": [
    "# Boxplot"
   ]
  },
  {
   "cell_type": "raw",
   "id": "f77479b0",
   "metadata": {},
   "source": [
    "It highlights outliers, which are data points significantly different from the rest of the dataset. Outliers can be important for detecting anomalies or errors in data."
   ]
  },
  {
   "cell_type": "markdown",
   "id": "06eb61e2",
   "metadata": {},
   "source": [
    "# 1. Box Plot of Car Prices"
   ]
  },
  {
   "cell_type": "code",
   "execution_count": 42,
   "id": "fb05e677",
   "metadata": {},
   "outputs": [
    {
     "data": {
      "image/png": "[encoded data removed]",
      "text/plain": [
       "<Figure size 288x216 with 1 Axes>"
      ]
     },
     "metadata": {
      "needs_background": "light"
     },
     "output_type": "display_data"
    }
   ],
   "source": [
    "plt.figure(figsize=(4, 3))\n",
    "sns.boxplot(data=df[['Price']])\n",
    "plt.show()"
   ]
  },
  {
   "cell_type": "raw",
   "id": "025c8c02",
   "metadata": {},
   "source": [
    "Box Plot Analysis:\n",
    "\n",
    "Median (50th Percentile):The median price of the cars is €9900, which means that 50% of the cars are priced below €9900 and 50% are above this value.\n",
    "\n",
    "Interquartile Range (IQR):The IQR is €11950 (75th percentile) - €8450 (25th percentile) = €3500. This range represents the middle 50% of car prices. A larger IQR indicates greater variability in car prices within the central range.\n",
    "\n",
    "Minimum and Maximum Prices:The minimum price is €4350, and the maximum is €32500. This range indicates that there are both low-end and high-end cars in the dataset.\n",
    "\n",
    "Outliers:\n",
    "Outliers are any data points that fall outside 1.5 times the IQR from the quartiles. High outliers may indicate luxury or rare models, while low outliers might be older or lower-spec cars.\n",
    "\n",
    "Insights:\n",
    "\n",
    "There is a broad range of car prices, suggesting a diverse dataset that includes both budget and premium cars.\n",
    "Significant outliers may indicate special cases or errors that should be investigated."
   ]
  },
  {
   "cell_type": "markdown",
   "id": "834d6e5f",
   "metadata": {},
   "source": [
    "# 2. Box Plot of Car Age (Age_08_04)"
   ]
  },
  {
   "cell_type": "code",
   "execution_count": 47,
   "id": "d2de3a6f",
   "metadata": {},
   "outputs": [
    {
     "data": {
      "image/png": "[encoded data removed]",
      "text/plain": [
       "<Figure size 288x216 with 1 Axes>"
      ]
     },
     "metadata": {
      "needs_background": "light"
     },
     "output_type": "display_data"
    }
   ],
   "source": [
    "plt.figure(figsize=(4, 3))\n",
    "sns.boxplot(data=df[['Age_08_04']],orient='h')\n",
    "plt.show()"
   ]
  },
  {
   "cell_type": "raw",
   "id": "9b410211",
   "metadata": {},
   "source": [
    "Box Plot Analysis:\n",
    "\n",
    "Median (50th Percentile):The median age of the cars is 61 years. This indicates that half of the cars are older than 61 years and half are newer.\n",
    "\n",
    "Interquartile Range (IQR): The IQR is from 70 years (75th percentile) to 44 years (25th percentile) = 26 years. This indicates a moderate spread in car ages among the middle 50% of the dataset.\n",
    "Minimum and Maximum Ages: The minimum age is 1 year, and the maximum is 80 years. This shows a wide range of car ages in the dataset.\n",
    "\n",
    "Outliers:Any ages that fall outside 1.5 times the IQR from the quartiles are considered outliers. Outliers here could indicate unusually old cars or very recent models.\n",
    "\n",
    "Insights:\n",
    "\n",
    "The dataset includes both very old and very recent models, reflecting a diverse set of car ages.\n",
    "Outliers could be particularly valuable for understanding rare or unique cars in the dataset."
   ]
  },
  {
   "cell_type": "markdown",
   "id": "d70d87c5",
   "metadata": {},
   "source": [
    "# 3. Box Plot of Horse Power (HP)"
   ]
  },
  {
   "cell_type": "code",
   "execution_count": 48,
   "id": "397ace7a",
   "metadata": {},
   "outputs": [
    {
     "data": {
      "image/png": "[encoded data removed]",
      "text/plain": [
       "<Figure size 288x216 with 1 Axes>"
      ]
     },
     "metadata": {
      "needs_background": "light"
     },
     "output_type": "display_data"
    }
   ],
   "source": [
    "plt.figure(figsize=(4, 3))\n",
    "sns.boxplot(data=df[['HP']], orient='h')\n",
    "plt.show()"
   ]
  },
  {
   "cell_type": "raw",
   "id": "7921ee05",
   "metadata": {},
   "source": [
    "Box Plot Analysis:\n",
    "\n",
    "Median(50th Percentile):The median horsepower is 110 HP, which means that half of the cars have horsepower below this value and half above.\n",
    "\n",
    "Interquartile Range (IQR): The IQR is from 110 HP (75th percentile) to 90 HP (25th percentile) = 20 HP. This indicates the variability in horsepower for the central 50% of cars.\n",
    "\n",
    "Minimum and Maximum HP: The minimum is 69 HP, and the maximum is 192 HP. This shows that there is a wide range of engine performance among the cars.\n",
    "\n",
    "Outliers: Outliers in horsepower could be high-performance models with very high HP or very basic models with low HP.\n",
    "\n",
    "Insights:\n",
    "\n",
    "The dataset contains cars with a broad range of horsepower, from basic to high-performance vehicles.\n",
    "Investigating outliers may provide insights into exceptional performance models or potential data anomalies."
   ]
  },
  {
   "cell_type": "markdown",
   "id": "ee7e0465",
   "metadata": {},
   "source": [
    "# 4 .Box Plot of KM (HP)"
   ]
  },
  {
   "cell_type": "code",
   "execution_count": 49,
   "id": "bdcf7e22",
   "metadata": {},
   "outputs": [
    {
     "data": {
      "image/png": "[encoded data removed]",
      "text/plain": [
       "<Figure size 288x216 with 1 Axes>"
      ]
     },
     "metadata": {
      "needs_background": "light"
     },
     "output_type": "display_data"
    }
   ],
   "source": [
    "plt.figure(figsize=(4, 3))\n",
    "sns.boxplot(data=df[['KM']], orient='h')\n",
    "plt.show()"
   ]
  },
  {
   "cell_type": "markdown",
   "id": "d6e0f768",
   "metadata": {},
   "source": [
    "# 5.Box Plot of Doors"
   ]
  },
  {
   "cell_type": "code",
   "execution_count": 50,
   "id": "63f602eb",
   "metadata": {},
   "outputs": [
    {
     "data": {
      "image/png": "[encoded data removed]",
      "text/plain": [
       "<Figure size 288x216 with 1 Axes>"
      ]
     },
     "metadata": {
      "needs_background": "light"
     },
     "output_type": "display_data"
    }
   ],
   "source": [
    "plt.figure(figsize=(4, 3))\n",
    "sns.boxplot(data=df[['Doors']], orient='h')\n",
    "plt.show()"
   ]
  },
  {
   "cell_type": "markdown",
   "id": "f61794ad",
   "metadata": {},
   "source": [
    "# Box Plot of Weight"
   ]
  },
  {
   "cell_type": "code",
   "execution_count": 52,
   "id": "6c88338a",
   "metadata": {},
   "outputs": [
    {
     "data": {
      "image/png": "[encoded data removed]",
      "text/plain": [
       "<Figure size 288x216 with 1 Axes>"
      ]
     },
     "metadata": {
      "needs_background": "light"
     },
     "output_type": "display_data"
    }
   ],
   "source": [
    "plt.figure(figsize=(4, 3))\n",
    "sns.boxplot(data=df[['Weight']], orient='h')\n",
    "plt.show()"
   ]
  },
  {
   "cell_type": "markdown",
   "id": "f3d9e9b6",
   "metadata": {},
   "source": [
    "# To visualize relationships between Price and other features such as Age, KM, HP, Weight."
   ]
  },
  {
   "cell_type": "code",
   "execution_count": 55,
   "id": "1d5f5a22",
   "metadata": {},
   "outputs": [
    {
     "data": {
      "image/png": "[encoded data removed]",
      "text/plain": [
       "<Figure size 360x288 with 1 Axes>"
      ]
     },
     "metadata": {
      "needs_background": "light"
     },
     "output_type": "display_data"
    }
   ],
   "source": [
    "#plt Scatter plot of Price vs Km\n",
    "plt.figure(figsize=(5, 4))\n",
    "plt.scatter(df['KM'], df['Price'], alpha=0.5)\n",
    "plt.title('Scatter Plot of Price vs KM')\n",
    "plt.xlabel('KM (Distance)')\n",
    "plt.ylabel('Price (EUROs)')\n",
    "plt.grid(True)\n",
    "plt.show()"
   ]
  },
  {
   "cell_type": "raw",
   "id": "eec673ae",
   "metadata": {},
   "source": [
    "Analysis:\n",
    "\n",
    "Trend:Generally, we might expect a negative trend where cars with higher accumulated kilometers have lower prices. This reflects the common perception that higher mileage reduces a car’s value.\n",
    "\n",
    "Density:There are patterns in the density of points, which can indicate typical mileage ranges for various price levels.\n",
    "\n",
    "Outliers:high mileage cars with high prices or low mileage cars with low prices. Such points might indicate special cases, such as well-maintained high-mileage cars or rare, low-mileage vehicles.\n",
    "\n",
    "Insights:\n",
    "\n",
    "Correlation:A negative correlation between kilometers and price indicates that higher mileage is associated with lower prices, consistent with the idea that extensive use reduces a car’s value.\n",
    "\n",
    "Market Behavior: Cars with unusually high or low prices for their mileage might reflect specific market behaviors or anomalies in the dataset.\n",
    "Summary\n",
    "\n",
    "Relationship:Scatter plots are useful for visually assessing the relationship between two continuous variables. They help identify patterns, correlations, and potential outliers.\n",
    "\n",
    "Trends:Trends (positive, negative, or no clear trend) help understand how one variable affects another.\n",
    "\n",
    "Outliers:Outliers can provide insights into exceptional cases or anomalies that might require further investigation."
   ]
  },
  {
   "cell_type": "markdown",
   "id": "6b05555a",
   "metadata": {},
   "source": [
    "# Plotting Scatter plot of Price vs age"
   ]
  },
  {
   "cell_type": "code",
   "execution_count": 56,
   "id": "abd31ec6",
   "metadata": {},
   "outputs": [
    {
     "data": {
      "image/png": "[encoded data removed]",
      "text/plain": [
       "<Figure size 360x288 with 1 Axes>"
      ]
     },
     "metadata": {
      "needs_background": "light"
     },
     "output_type": "display_data"
    }
   ],
   "source": [
    "#plt Scatter plot of Price vs age\n",
    "plt.figure(figsize=(5, 4))\n",
    "plt.scatter(df['Age_08_04'], df['Price'], alpha=0.5)\n",
    "plt.title('Scatter Plot of Price vs KM')\n",
    "plt.xlabel('Age_08_04(years)')\n",
    "plt.ylabel('Price (EUROs)')\n",
    "plt.grid(True)\n",
    "plt.show()"
   ]
  },
  {
   "cell_type": "raw",
   "id": "3312c979",
   "metadata": {},
   "source": [
    "Analysis:\n",
    "\n",
    "Trend: we might expect to see that older cars tend to have lower prices.there’s a downward trend from left to right, it suggests that as cars get older, their prices decrease.\n",
    "\n",
    "Outliers: points that are far from the general trend. For example, very old cars with high prices could be rare classic models.\n",
    "\n",
    "Insights:\n",
    "\n",
    "Correlation: There is a clear downward trend, it indicates a negative correlation between age and price. Older cars generally lose value.\n",
    "\n",
    "Non-linearity: The relationship is not strictly linear, other factors might be influencing the price, such as the car’s make, condition, or historical significance."
   ]
  },
  {
   "cell_type": "markdown",
   "id": "3b9b8b87",
   "metadata": {},
   "source": [
    "# Plotting Scatter plot of Price vs HP"
   ]
  },
  {
   "cell_type": "code",
   "execution_count": 57,
   "id": "b938f742",
   "metadata": {},
   "outputs": [
    {
     "data": {
      "image/png": "[encoded data removed]",
      "text/plain": [
       "<Figure size 360x288 with 1 Axes>"
      ]
     },
     "metadata": {
      "needs_background": "light"
     },
     "output_type": "display_data"
    }
   ],
   "source": [
    "plt.figure(figsize=(5, 4))\n",
    "plt.scatter(df['HP'], df['Price'], alpha=0.5)\n",
    "plt.title('Scatter Plot of Price vs HP')\n",
    "plt.xlabel('HP')\n",
    "plt.ylabel('Price (EUROs)')\n",
    "plt.grid(True)\n",
    "plt.show()"
   ]
  },
  {
   "cell_type": "raw",
   "id": "99bfa4cf",
   "metadata": {},
   "source": [
    "Analysis:\n",
    "\n",
    "Trend:  A positive trend where higher horsepower is associated with higher prices. This suggests that more powerful cars tend to be more expensive.\n",
    "\n",
    "Density: Areas with high density of points can indicate common horsepower ranges for different price levels.\n",
    "\n",
    "Outliers: outliers such as high horsepower cars with low prices or vice versa. These could indicate anomalies or special cases.\n",
    "\n",
    "Insights:\n",
    "    \n",
    "Correlation: A positive correlation between horsepower and price suggests that cars with more power are generally more expensive.\n",
    "Market Segmentation:High horsepower cars might belong to a premium segment of the market, contributing to their higher prices."
   ]
  },
  {
   "cell_type": "markdown",
   "id": "fbc62caa",
   "metadata": {},
   "source": [
    "# Pair Plot"
   ]
  },
  {
   "cell_type": "code",
   "execution_count": 62,
   "id": "73e08df6",
   "metadata": {},
   "outputs": [
    {
     "data": {
      "text/plain": [
       "<Figure size 288x288 with 0 Axes>"
      ]
     },
     "metadata": {},
     "output_type": "display_data"
    },
    {
     "data": {
      "image/png": "[encoded data removed]",
      "text/plain": [
       "<Figure size 720x720 with 20 Axes>"
      ]
     },
     "metadata": {
      "needs_background": "light"
     },
     "output_type": "display_data"
    }
   ],
   "source": [
    "plt.figure(figsize=(4,4))\n",
    "sns.pairplot(df[['Weight', 'KM', 'HP','Price']])\n",
    "plt.show()"
   ]
  },
  {
   "cell_type": "markdown",
   "id": "ccfe57fb",
   "metadata": {},
   "source": [
    "# Data Preprocessing for Multiple Linear Regression (MLR)"
   ]
  },
  {
   "cell_type": "raw",
   "id": "4dccc75c",
   "metadata": {},
   "source": [
    "Standardization is important for MLR, especially if the features have different scales."
   ]
  },
  {
   "cell_type": "code",
   "execution_count": 64,
   "id": "2169cc99",
   "metadata": {},
   "outputs": [],
   "source": [
    "data_num = df.drop(df.columns[3],axis=1)"
   ]
  },
  {
   "cell_type": "code",
   "execution_count": 65,
   "id": "73f8336d",
   "metadata": {},
   "outputs": [
    {
     "data": {
      "text/html": [
       "<div>\n",
       "<style scoped>\n",
       "    .dataframe tbody tr th:only-of-type {\n",
       "        vertical-align: middle;\n",
       "    }\n",
       "\n",
       "    .dataframe tbody tr th {\n",
       "        vertical-align: top;\n",
       "    }\n",
       "\n",
       "    .dataframe thead th {\n",
       "        text-align: right;\n",
       "    }\n",
       "</style>\n",
       "<table border=\"1\" class=\"dataframe\">\n",
       "  <thead>\n",
       "    <tr style=\"text-align: right;\">\n",
       "      <th></th>\n",
       "      <th>Price</th>\n",
       "      <th>Age_08_04</th>\n",
       "      <th>KM</th>\n",
       "      <th>HP</th>\n",
       "      <th>Automatic</th>\n",
       "      <th>cc</th>\n",
       "      <th>Doors</th>\n",
       "      <th>Cylinders</th>\n",
       "      <th>Gears</th>\n",
       "      <th>Weight</th>\n",
       "    </tr>\n",
       "  </thead>\n",
       "  <tbody>\n",
       "    <tr>\n",
       "      <th>0</th>\n",
       "      <td>13500</td>\n",
       "      <td>23</td>\n",
       "      <td>46986</td>\n",
       "      <td>90</td>\n",
       "      <td>0</td>\n",
       "      <td>2000</td>\n",
       "      <td>3</td>\n",
       "      <td>4</td>\n",
       "      <td>5</td>\n",
       "      <td>1165</td>\n",
       "    </tr>\n",
       "    <tr>\n",
       "      <th>1</th>\n",
       "      <td>13750</td>\n",
       "      <td>23</td>\n",
       "      <td>72937</td>\n",
       "      <td>90</td>\n",
       "      <td>0</td>\n",
       "      <td>2000</td>\n",
       "      <td>3</td>\n",
       "      <td>4</td>\n",
       "      <td>5</td>\n",
       "      <td>1165</td>\n",
       "    </tr>\n",
       "    <tr>\n",
       "      <th>2</th>\n",
       "      <td>13950</td>\n",
       "      <td>24</td>\n",
       "      <td>41711</td>\n",
       "      <td>90</td>\n",
       "      <td>0</td>\n",
       "      <td>2000</td>\n",
       "      <td>3</td>\n",
       "      <td>4</td>\n",
       "      <td>5</td>\n",
       "      <td>1165</td>\n",
       "    </tr>\n",
       "    <tr>\n",
       "      <th>3</th>\n",
       "      <td>14950</td>\n",
       "      <td>26</td>\n",
       "      <td>48000</td>\n",
       "      <td>90</td>\n",
       "      <td>0</td>\n",
       "      <td>2000</td>\n",
       "      <td>3</td>\n",
       "      <td>4</td>\n",
       "      <td>5</td>\n",
       "      <td>1165</td>\n",
       "    </tr>\n",
       "    <tr>\n",
       "      <th>4</th>\n",
       "      <td>13750</td>\n",
       "      <td>30</td>\n",
       "      <td>38500</td>\n",
       "      <td>90</td>\n",
       "      <td>0</td>\n",
       "      <td>2000</td>\n",
       "      <td>3</td>\n",
       "      <td>4</td>\n",
       "      <td>5</td>\n",
       "      <td>1170</td>\n",
       "    </tr>\n",
       "  </tbody>\n",
       "</table>\n",
       "</div>"
      ],
      "text/plain": [
       "   Price  Age_08_04     KM  HP  Automatic    cc  Doors  Cylinders  Gears  \\\n",
       "0  13500         23  46986  90          0  2000      3          4      5   \n",
       "1  13750         23  72937  90          0  2000      3          4      5   \n",
       "2  13950         24  41711  90          0  2000      3          4      5   \n",
       "3  14950         26  48000  90          0  2000      3          4      5   \n",
       "4  13750         30  38500  90          0  2000      3          4      5   \n",
       "\n",
       "   Weight  \n",
       "0    1165  \n",
       "1    1165  \n",
       "2    1165  \n",
       "3    1165  \n",
       "4    1170  "
      ]
     },
     "execution_count": 65,
     "metadata": {},
     "output_type": "execute_result"
    }
   ],
   "source": [
    "data_num.head()"
   ]
  },
  {
   "cell_type": "code",
   "execution_count": 67,
   "id": "af601da6",
   "metadata": {},
   "outputs": [
    {
     "data": {
      "text/plain": [
       "array([[ 0.76376268, -1.77196633, -0.57469494, ...,  0.        ,\n",
       "        -0.14042519,  1.75856113],\n",
       "       [ 0.83271485, -1.77196633,  0.11745379, ...,  0.        ,\n",
       "        -0.14042519,  1.75856113],\n",
       "       [ 0.88787659, -1.71818412, -0.71538641, ...,  0.        ,\n",
       "        -0.14042519,  1.75856113],\n",
       "       ...,\n",
       "       [-0.6152808 ,  0.80957948, -1.37403589, ...,  0.        ,\n",
       "        -0.14042519, -1.09191497],\n",
       "       [-0.96004167,  0.75579727, -1.37670303, ...,  0.        ,\n",
       "        -0.14042519, -1.09191497],\n",
       "       [-1.04278428,  1.0784905 , -1.82784925, ...,  0.        ,\n",
       "        -0.14042519,  0.78939926]])"
      ]
     },
     "execution_count": 67,
     "metadata": {},
     "output_type": "execute_result"
    }
   ],
   "source": [
    "from sklearn.preprocessing import StandardScaler\n",
    "ss = StandardScaler()\n",
    "ss_x = ss.fit_transform(data_num)\n",
    "ss_x"
   ]
  },
  {
   "cell_type": "code",
   "execution_count": 68,
   "id": "8d443a69",
   "metadata": {},
   "outputs": [
    {
     "data": {
      "text/html": [
       "<div>\n",
       "<style scoped>\n",
       "    .dataframe tbody tr th:only-of-type {\n",
       "        vertical-align: middle;\n",
       "    }\n",
       "\n",
       "    .dataframe tbody tr th {\n",
       "        vertical-align: top;\n",
       "    }\n",
       "\n",
       "    .dataframe thead th {\n",
       "        text-align: right;\n",
       "    }\n",
       "</style>\n",
       "<table border=\"1\" class=\"dataframe\">\n",
       "  <thead>\n",
       "    <tr style=\"text-align: right;\">\n",
       "      <th></th>\n",
       "      <th>Price</th>\n",
       "      <th>Age_08_04</th>\n",
       "      <th>KM</th>\n",
       "      <th>HP</th>\n",
       "      <th>Automatic</th>\n",
       "      <th>cc</th>\n",
       "      <th>Doors</th>\n",
       "      <th>Cylinders</th>\n",
       "      <th>Gears</th>\n",
       "      <th>Weight</th>\n",
       "    </tr>\n",
       "  </thead>\n",
       "  <tbody>\n",
       "    <tr>\n",
       "      <th>0</th>\n",
       "      <td>0.763763</td>\n",
       "      <td>-1.771966</td>\n",
       "      <td>-0.574695</td>\n",
       "      <td>-0.768042</td>\n",
       "      <td>-0.242893</td>\n",
       "      <td>0.997419</td>\n",
       "      <td>-1.085139</td>\n",
       "      <td>0.0</td>\n",
       "      <td>-0.140425</td>\n",
       "      <td>1.758561</td>\n",
       "    </tr>\n",
       "    <tr>\n",
       "      <th>1</th>\n",
       "      <td>0.832715</td>\n",
       "      <td>-1.771966</td>\n",
       "      <td>0.117454</td>\n",
       "      <td>-0.768042</td>\n",
       "      <td>-0.242893</td>\n",
       "      <td>0.997419</td>\n",
       "      <td>-1.085139</td>\n",
       "      <td>0.0</td>\n",
       "      <td>-0.140425</td>\n",
       "      <td>1.758561</td>\n",
       "    </tr>\n",
       "    <tr>\n",
       "      <th>2</th>\n",
       "      <td>0.887877</td>\n",
       "      <td>-1.718184</td>\n",
       "      <td>-0.715386</td>\n",
       "      <td>-0.768042</td>\n",
       "      <td>-0.242893</td>\n",
       "      <td>0.997419</td>\n",
       "      <td>-1.085139</td>\n",
       "      <td>0.0</td>\n",
       "      <td>-0.140425</td>\n",
       "      <td>1.758561</td>\n",
       "    </tr>\n",
       "    <tr>\n",
       "      <th>3</th>\n",
       "      <td>1.163685</td>\n",
       "      <td>-1.610620</td>\n",
       "      <td>-0.547650</td>\n",
       "      <td>-0.768042</td>\n",
       "      <td>-0.242893</td>\n",
       "      <td>0.997419</td>\n",
       "      <td>-1.085139</td>\n",
       "      <td>0.0</td>\n",
       "      <td>-0.140425</td>\n",
       "      <td>1.758561</td>\n",
       "    </tr>\n",
       "    <tr>\n",
       "      <th>4</th>\n",
       "      <td>0.832715</td>\n",
       "      <td>-1.395491</td>\n",
       "      <td>-0.801028</td>\n",
       "      <td>-0.768042</td>\n",
       "      <td>-0.242893</td>\n",
       "      <td>0.997419</td>\n",
       "      <td>-1.085139</td>\n",
       "      <td>0.0</td>\n",
       "      <td>-0.140425</td>\n",
       "      <td>1.853577</td>\n",
       "    </tr>\n",
       "  </tbody>\n",
       "</table>\n",
       "</div>"
      ],
      "text/plain": [
       "      Price  Age_08_04        KM        HP  Automatic        cc     Doors  \\\n",
       "0  0.763763  -1.771966 -0.574695 -0.768042  -0.242893  0.997419 -1.085139   \n",
       "1  0.832715  -1.771966  0.117454 -0.768042  -0.242893  0.997419 -1.085139   \n",
       "2  0.887877  -1.718184 -0.715386 -0.768042  -0.242893  0.997419 -1.085139   \n",
       "3  1.163685  -1.610620 -0.547650 -0.768042  -0.242893  0.997419 -1.085139   \n",
       "4  0.832715  -1.395491 -0.801028 -0.768042  -0.242893  0.997419 -1.085139   \n",
       "\n",
       "   Cylinders     Gears    Weight  \n",
       "0        0.0 -0.140425  1.758561  \n",
       "1        0.0 -0.140425  1.758561  \n",
       "2        0.0 -0.140425  1.758561  \n",
       "3        0.0 -0.140425  1.758561  \n",
       "4        0.0 -0.140425  1.853577  "
      ]
     },
     "execution_count": 68,
     "metadata": {},
     "output_type": "execute_result"
    }
   ],
   "source": [
    "ss_X=pd.DataFrame(ss_x)\n",
    "ss_X.columns = list(data_num)\n",
    "ss_X.head()"
   ]
  },
  {
   "cell_type": "markdown",
   "id": "03087b4f",
   "metadata": {},
   "source": [
    "# Handling Categorical Variables"
   ]
  },
  {
   "cell_type": "markdown",
   "id": "5f0dda8d",
   "metadata": {},
   "source": [
    "Converting categorical features to dummy variables"
   ]
  },
  {
   "cell_type": "code",
   "execution_count": 78,
   "id": "471f0bf1",
   "metadata": {},
   "outputs": [],
   "source": [
    "data_col = df.drop(df.columns[[0, 1,2,4, 5, 6, 7 ,8, 9, 10]],axis=1)"
   ]
  },
  {
   "cell_type": "code",
   "execution_count": 79,
   "id": "7565dcdc",
   "metadata": {},
   "outputs": [
    {
     "data": {
      "text/html": [
       "<div>\n",
       "<style scoped>\n",
       "    .dataframe tbody tr th:only-of-type {\n",
       "        vertical-align: middle;\n",
       "    }\n",
       "\n",
       "    .dataframe tbody tr th {\n",
       "        vertical-align: top;\n",
       "    }\n",
       "\n",
       "    .dataframe thead th {\n",
       "        text-align: right;\n",
       "    }\n",
       "</style>\n",
       "<table border=\"1\" class=\"dataframe\">\n",
       "  <thead>\n",
       "    <tr style=\"text-align: right;\">\n",
       "      <th></th>\n",
       "      <th>Fuel_Type</th>\n",
       "    </tr>\n",
       "  </thead>\n",
       "  <tbody>\n",
       "    <tr>\n",
       "      <th>0</th>\n",
       "      <td>Diesel</td>\n",
       "    </tr>\n",
       "    <tr>\n",
       "      <th>1</th>\n",
       "      <td>Diesel</td>\n",
       "    </tr>\n",
       "    <tr>\n",
       "      <th>2</th>\n",
       "      <td>Diesel</td>\n",
       "    </tr>\n",
       "    <tr>\n",
       "      <th>3</th>\n",
       "      <td>Diesel</td>\n",
       "    </tr>\n",
       "    <tr>\n",
       "      <th>4</th>\n",
       "      <td>Diesel</td>\n",
       "    </tr>\n",
       "  </tbody>\n",
       "</table>\n",
       "</div>"
      ],
      "text/plain": [
       "  Fuel_Type\n",
       "0    Diesel\n",
       "1    Diesel\n",
       "2    Diesel\n",
       "3    Diesel\n",
       "4    Diesel"
      ]
     },
     "execution_count": 79,
     "metadata": {},
     "output_type": "execute_result"
    }
   ],
   "source": [
    "data_col.head()"
   ]
  },
  {
   "cell_type": "code",
   "execution_count": 80,
   "id": "0c241172",
   "metadata": {},
   "outputs": [],
   "source": [
    "from sklearn.preprocessing import OneHotEncoder"
   ]
  },
  {
   "cell_type": "code",
   "execution_count": 81,
   "id": "f97806d0",
   "metadata": {},
   "outputs": [],
   "source": [
    "df_cat_encoded = pd.get_dummies(data_col , drop_first=True)"
   ]
  },
  {
   "cell_type": "code",
   "execution_count": 82,
   "id": "1119bdab",
   "metadata": {},
   "outputs": [
    {
     "data": {
      "text/html": [
       "<div>\n",
       "<style scoped>\n",
       "    .dataframe tbody tr th:only-of-type {\n",
       "        vertical-align: middle;\n",
       "    }\n",
       "\n",
       "    .dataframe tbody tr th {\n",
       "        vertical-align: top;\n",
       "    }\n",
       "\n",
       "    .dataframe thead th {\n",
       "        text-align: right;\n",
       "    }\n",
       "</style>\n",
       "<table border=\"1\" class=\"dataframe\">\n",
       "  <thead>\n",
       "    <tr style=\"text-align: right;\">\n",
       "      <th></th>\n",
       "      <th>Fuel_Type_Diesel</th>\n",
       "      <th>Fuel_Type_Petrol</th>\n",
       "    </tr>\n",
       "  </thead>\n",
       "  <tbody>\n",
       "    <tr>\n",
       "      <th>0</th>\n",
       "      <td>1</td>\n",
       "      <td>0</td>\n",
       "    </tr>\n",
       "    <tr>\n",
       "      <th>1</th>\n",
       "      <td>1</td>\n",
       "      <td>0</td>\n",
       "    </tr>\n",
       "    <tr>\n",
       "      <th>2</th>\n",
       "      <td>1</td>\n",
       "      <td>0</td>\n",
       "    </tr>\n",
       "    <tr>\n",
       "      <th>3</th>\n",
       "      <td>1</td>\n",
       "      <td>0</td>\n",
       "    </tr>\n",
       "    <tr>\n",
       "      <th>4</th>\n",
       "      <td>1</td>\n",
       "      <td>0</td>\n",
       "    </tr>\n",
       "  </tbody>\n",
       "</table>\n",
       "</div>"
      ],
      "text/plain": [
       "   Fuel_Type_Diesel  Fuel_Type_Petrol\n",
       "0                 1                 0\n",
       "1                 1                 0\n",
       "2                 1                 0\n",
       "3                 1                 0\n",
       "4                 1                 0"
      ]
     },
     "execution_count": 82,
     "metadata": {},
     "output_type": "execute_result"
    }
   ],
   "source": [
    "df_cat_encoded.head()"
   ]
  },
  {
   "cell_type": "code",
   "execution_count": 84,
   "id": "c91cc995",
   "metadata": {},
   "outputs": [],
   "source": [
    "boolean_cols = df_cat_encoded.columns[df_cat_encoded.dtypes == \"bool\"]\n",
    "df_cat_encoded[boolean_cols]=df_cat_encoded[boolean_cols].astype(int)"
   ]
  },
  {
   "cell_type": "code",
   "execution_count": 85,
   "id": "0da46450",
   "metadata": {},
   "outputs": [],
   "source": [
    "data = pd.concat([ss_X , df_cat_encoded[boolean_cols]],axis=1)"
   ]
  },
  {
   "cell_type": "code",
   "execution_count": 87,
   "id": "842e2f29",
   "metadata": {},
   "outputs": [
    {
     "data": {
      "text/html": [
       "<div>\n",
       "<style scoped>\n",
       "    .dataframe tbody tr th:only-of-type {\n",
       "        vertical-align: middle;\n",
       "    }\n",
       "\n",
       "    .dataframe tbody tr th {\n",
       "        vertical-align: top;\n",
       "    }\n",
       "\n",
       "    .dataframe thead th {\n",
       "        text-align: right;\n",
       "    }\n",
       "</style>\n",
       "<table border=\"1\" class=\"dataframe\">\n",
       "  <thead>\n",
       "    <tr style=\"text-align: right;\">\n",
       "      <th></th>\n",
       "      <th>Price</th>\n",
       "      <th>Age_08_04</th>\n",
       "      <th>KM</th>\n",
       "      <th>HP</th>\n",
       "      <th>Automatic</th>\n",
       "      <th>cc</th>\n",
       "      <th>Doors</th>\n",
       "      <th>Cylinders</th>\n",
       "      <th>Gears</th>\n",
       "      <th>Weight</th>\n",
       "    </tr>\n",
       "  </thead>\n",
       "  <tbody>\n",
       "    <tr>\n",
       "      <th>0</th>\n",
       "      <td>0.763763</td>\n",
       "      <td>-1.771966</td>\n",
       "      <td>-0.574695</td>\n",
       "      <td>-0.768042</td>\n",
       "      <td>-0.242893</td>\n",
       "      <td>0.997419</td>\n",
       "      <td>-1.085139</td>\n",
       "      <td>0.0</td>\n",
       "      <td>-0.140425</td>\n",
       "      <td>1.758561</td>\n",
       "    </tr>\n",
       "    <tr>\n",
       "      <th>1</th>\n",
       "      <td>0.832715</td>\n",
       "      <td>-1.771966</td>\n",
       "      <td>0.117454</td>\n",
       "      <td>-0.768042</td>\n",
       "      <td>-0.242893</td>\n",
       "      <td>0.997419</td>\n",
       "      <td>-1.085139</td>\n",
       "      <td>0.0</td>\n",
       "      <td>-0.140425</td>\n",
       "      <td>1.758561</td>\n",
       "    </tr>\n",
       "    <tr>\n",
       "      <th>2</th>\n",
       "      <td>0.887877</td>\n",
       "      <td>-1.718184</td>\n",
       "      <td>-0.715386</td>\n",
       "      <td>-0.768042</td>\n",
       "      <td>-0.242893</td>\n",
       "      <td>0.997419</td>\n",
       "      <td>-1.085139</td>\n",
       "      <td>0.0</td>\n",
       "      <td>-0.140425</td>\n",
       "      <td>1.758561</td>\n",
       "    </tr>\n",
       "    <tr>\n",
       "      <th>3</th>\n",
       "      <td>1.163685</td>\n",
       "      <td>-1.610620</td>\n",
       "      <td>-0.547650</td>\n",
       "      <td>-0.768042</td>\n",
       "      <td>-0.242893</td>\n",
       "      <td>0.997419</td>\n",
       "      <td>-1.085139</td>\n",
       "      <td>0.0</td>\n",
       "      <td>-0.140425</td>\n",
       "      <td>1.758561</td>\n",
       "    </tr>\n",
       "    <tr>\n",
       "      <th>4</th>\n",
       "      <td>0.832715</td>\n",
       "      <td>-1.395491</td>\n",
       "      <td>-0.801028</td>\n",
       "      <td>-0.768042</td>\n",
       "      <td>-0.242893</td>\n",
       "      <td>0.997419</td>\n",
       "      <td>-1.085139</td>\n",
       "      <td>0.0</td>\n",
       "      <td>-0.140425</td>\n",
       "      <td>1.853577</td>\n",
       "    </tr>\n",
       "  </tbody>\n",
       "</table>\n",
       "</div>"
      ],
      "text/plain": [
       "      Price  Age_08_04        KM        HP  Automatic        cc     Doors  \\\n",
       "0  0.763763  -1.771966 -0.574695 -0.768042  -0.242893  0.997419 -1.085139   \n",
       "1  0.832715  -1.771966  0.117454 -0.768042  -0.242893  0.997419 -1.085139   \n",
       "2  0.887877  -1.718184 -0.715386 -0.768042  -0.242893  0.997419 -1.085139   \n",
       "3  1.163685  -1.610620 -0.547650 -0.768042  -0.242893  0.997419 -1.085139   \n",
       "4  0.832715  -1.395491 -0.801028 -0.768042  -0.242893  0.997419 -1.085139   \n",
       "\n",
       "   Cylinders     Gears    Weight  \n",
       "0        0.0 -0.140425  1.758561  \n",
       "1        0.0 -0.140425  1.758561  \n",
       "2        0.0 -0.140425  1.758561  \n",
       "3        0.0 -0.140425  1.758561  \n",
       "4        0.0 -0.140425  1.853577  "
      ]
     },
     "execution_count": 87,
     "metadata": {},
     "output_type": "execute_result"
    }
   ],
   "source": [
    "data.head()"
   ]
  },
  {
   "cell_type": "markdown",
   "id": "bbb84f4c",
   "metadata": {},
   "source": [
    "# Correlation Matrix"
   ]
  },
  {
   "cell_type": "code",
   "execution_count": 88,
   "id": "a661f39c",
   "metadata": {},
   "outputs": [
    {
     "data": {
      "image/png": "[encoded data removed]",
      "text/plain": [
       "<Figure size 720x576 with 2 Axes>"
      ]
     },
     "metadata": {
      "needs_background": "light"
     },
     "output_type": "display_data"
    }
   ],
   "source": [
    "plt.figure(figsize=(10, 8))\n",
    "sns.heatmap(data.corr(), annot=True, cmap='coolwarm')\n",
    "plt.show()"
   ]
  },
  {
   "cell_type": "code",
   "execution_count": 89,
   "id": "962abbe4",
   "metadata": {},
   "outputs": [
    {
     "data": {
      "text/html": [
       "<div>\n",
       "<style scoped>\n",
       "    .dataframe tbody tr th:only-of-type {\n",
       "        vertical-align: middle;\n",
       "    }\n",
       "\n",
       "    .dataframe tbody tr th {\n",
       "        vertical-align: top;\n",
       "    }\n",
       "\n",
       "    .dataframe thead th {\n",
       "        text-align: right;\n",
       "    }\n",
       "</style>\n",
       "<table border=\"1\" class=\"dataframe\">\n",
       "  <thead>\n",
       "    <tr style=\"text-align: right;\">\n",
       "      <th></th>\n",
       "      <th>Price</th>\n",
       "      <th>Age_08_04</th>\n",
       "      <th>KM</th>\n",
       "      <th>HP</th>\n",
       "      <th>Automatic</th>\n",
       "      <th>cc</th>\n",
       "      <th>Doors</th>\n",
       "      <th>Cylinders</th>\n",
       "      <th>Gears</th>\n",
       "      <th>Weight</th>\n",
       "    </tr>\n",
       "  </thead>\n",
       "  <tbody>\n",
       "    <tr>\n",
       "      <th>Price</th>\n",
       "      <td>1.000000</td>\n",
       "      <td>-0.876590</td>\n",
       "      <td>-0.569960</td>\n",
       "      <td>0.314990</td>\n",
       "      <td>0.033081</td>\n",
       "      <td>0.126389</td>\n",
       "      <td>0.185326</td>\n",
       "      <td>NaN</td>\n",
       "      <td>0.063104</td>\n",
       "      <td>0.581198</td>\n",
       "    </tr>\n",
       "    <tr>\n",
       "      <th>Age_08_04</th>\n",
       "      <td>-0.876590</td>\n",
       "      <td>1.000000</td>\n",
       "      <td>0.505672</td>\n",
       "      <td>-0.156622</td>\n",
       "      <td>0.031717</td>\n",
       "      <td>-0.098084</td>\n",
       "      <td>-0.148359</td>\n",
       "      <td>NaN</td>\n",
       "      <td>-0.005364</td>\n",
       "      <td>-0.470253</td>\n",
       "    </tr>\n",
       "    <tr>\n",
       "      <th>KM</th>\n",
       "      <td>-0.569960</td>\n",
       "      <td>0.505672</td>\n",
       "      <td>1.000000</td>\n",
       "      <td>-0.333538</td>\n",
       "      <td>-0.081854</td>\n",
       "      <td>0.102683</td>\n",
       "      <td>-0.036197</td>\n",
       "      <td>NaN</td>\n",
       "      <td>0.015023</td>\n",
       "      <td>-0.028598</td>\n",
       "    </tr>\n",
       "    <tr>\n",
       "      <th>HP</th>\n",
       "      <td>0.314990</td>\n",
       "      <td>-0.156622</td>\n",
       "      <td>-0.333538</td>\n",
       "      <td>1.000000</td>\n",
       "      <td>0.013144</td>\n",
       "      <td>0.035856</td>\n",
       "      <td>0.092424</td>\n",
       "      <td>NaN</td>\n",
       "      <td>0.209477</td>\n",
       "      <td>0.089614</td>\n",
       "    </tr>\n",
       "    <tr>\n",
       "      <th>Automatic</th>\n",
       "      <td>0.033081</td>\n",
       "      <td>0.031717</td>\n",
       "      <td>-0.081854</td>\n",
       "      <td>0.013144</td>\n",
       "      <td>1.000000</td>\n",
       "      <td>0.066740</td>\n",
       "      <td>-0.027654</td>\n",
       "      <td>NaN</td>\n",
       "      <td>-0.098555</td>\n",
       "      <td>0.057249</td>\n",
       "    </tr>\n",
       "  </tbody>\n",
       "</table>\n",
       "</div>"
      ],
      "text/plain": [
       "              Price  Age_08_04        KM        HP  Automatic        cc  \\\n",
       "Price      1.000000  -0.876590 -0.569960  0.314990   0.033081  0.126389   \n",
       "Age_08_04 -0.876590   1.000000  0.505672 -0.156622   0.031717 -0.098084   \n",
       "KM        -0.569960   0.505672  1.000000 -0.333538  -0.081854  0.102683   \n",
       "HP         0.314990  -0.156622 -0.333538  1.000000   0.013144  0.035856   \n",
       "Automatic  0.033081   0.031717 -0.081854  0.013144   1.000000  0.066740   \n",
       "\n",
       "              Doors  Cylinders     Gears    Weight  \n",
       "Price      0.185326        NaN  0.063104  0.581198  \n",
       "Age_08_04 -0.148359        NaN -0.005364 -0.470253  \n",
       "KM        -0.036197        NaN  0.015023 -0.028598  \n",
       "HP         0.092424        NaN  0.209477  0.089614  \n",
       "Automatic -0.027654        NaN -0.098555  0.057249  "
      ]
     },
     "execution_count": 89,
     "metadata": {},
     "output_type": "execute_result"
    }
   ],
   "source": [
    "data.corr().head()"
   ]
  },
  {
   "cell_type": "raw",
   "id": "751fb74c",
   "metadata": {},
   "source": [
    "Price:\n",
    "\n",
    "Age_08_04: Strong negative correlation (-0.8766). As the age of the car increases, the price tends to decrease.\n",
    "\n",
    "KM:Moderate negative correlation (-0.5700). Higher mileage is associated with a lower price.\n",
    "\n",
    "HP:Moderate positive correlation (0.3150). Higher horsepower is slightly associated with a higher price.\n",
    "\n",
    "Automatic: Very weak positive correlation (0.0331). The presence of an automatic transmission has little effect on price.\n",
    "\n",
    "cc: Weak positive correlation (0.1264). Engine capacity has a minor positive relationship with price.\n",
    "\n",
    "Doors:Weak positive correlation (0.1853). The number of doors has a minor positive effect on price.\n",
    "\n",
    "Weight: Strong positive correlation (0.5812). Heavier cars tend to have higher prices.\n",
    "\n",
    "Fuel_Type_Diesel: Weak positive correlation (0.0541). Diesel fuel type has a minimal effect on price.\n",
    "\n",
    "Fuel_Type_Petrol: Weak negative correlation (-0.0385). Petrol fuel type has a minimal negative effect on price."
   ]
  },
  {
   "cell_type": "raw",
   "id": "c44e62cb",
   "metadata": {},
   "source": [
    "Age_08_04:\n",
    "\n",
    "KM:Moderate positive correlation (0.5057). Higher mileage cars are generally older.\n",
    "\n",
    "HP:Weak negative correlation (-0.1566). Age has a small negative effect on horsepower.\n",
    "\n",
    "Automatic:Very weak positive correlation (0.0317). Age doesn’t strongly influence whether a car is automatic.\n",
    "\n",
    "cc:Weak negative correlation (-0.0981). Engine capacity is slightly negatively related to the age of the car.\n",
    "\n",
    "Doors:Weak negative correlation (-0.1484). Older cars tend to have fewer doors.\n",
    "\n",
    "Weight:Moderate negative correlation (-0.4703). Older cars tend to be lighter.\n",
    "\n",
    "Fuel_Type_Diesel:Weak negative correlation (-0.0977). Older cars have a minimal tendency to be diesel.\n",
    "\n",
    "Fuel_Type_Petrol:Weak positive correlation (0.0926). Older cars have a minimal tendency to be petrol."
   ]
  },
  {
   "cell_type": "raw",
   "id": "90b71b92",
   "metadata": {},
   "source": [
    "\n",
    "KM\n",
    "\n",
    "HP: Moderate negative correlation (-0.3335). Higher mileage cars have lower horsepower.\n",
    "\n",
    "Automatic:Very weak negative correlation (-0.0819). Mileage has little effect on whether a car is automatic.\n",
    "\n",
    "cc: Weak positive correlation (0.1027). Higher mileage is slightly related to larger engine capacity.\n",
    "\n",
    "Doors:Very weak negative correlation (-0.0362). Mileage has little effect on the number of doors.\n",
    "\n",
    "Weight: Very weak negative correlation (-0.0286). Mileage has a minimal effect on weight.\n",
    "\n",
    "Fuel_Type_Diesel:Moderate positive correlation (0.4031). Diesel cars tend to have higher mileage.\n",
    "\n",
    "Fuel_Type_Petrol: Moderate negative correlation (-0.4332). Petrol cars tend to have lower mileage.\n"
   ]
  },
  {
   "cell_type": "raw",
   "id": "10422949",
   "metadata": {},
   "source": [
    "HP:\n",
    "\n",
    "Automatic:Very weak positive correlation (0.0131). Horsepower has minimal effect on whether a car is automatic.\n",
    "\n",
    "cc: Weak positive correlation (0.0359). Horsepower has a minor positive relationship with engine capacity.\n",
    "\n",
    "Doors:Weak positive correlation (0.0924). Horsepower has a small positive effect on the number of doors.\n",
    "\n",
    "Weight:Weak positive correlation (0.0896). Horsepower has a small positive effect on the weight of the car.\n",
    "\n",
    "Fuel_Type_Diesel: Moderate negative correlation (-0.5335). Diesel cars tend to have lower horsepower.\n",
    "\n",
    "Fuel_Type_Petrol:Moderate positive correlation (0.4891). Petrol cars tend to have higher horsepower.\n"
   ]
  },
  {
   "cell_type": "markdown",
   "id": "fdaf0af4",
   "metadata": {},
   "source": [
    "# Summary "
   ]
  },
  {
   "cell_type": "raw",
   "id": "9bbe1bd9",
   "metadata": {},
   "source": [
    "Price is strongly negatively correlated with Age_08_04 and KM, and positively correlated with Weight.\n",
    "\n",
    "Age_08_04 has a moderate positive correlation with KM and a negative correlation with Weight.\n",
    "\n",
    "KM has a moderate positive correlation with Fuel_Type_Diesel and a negative correlation with Fuel_Type_Petrol.\n",
    "\n",
    "HP shows a significant negative correlation with Fuel_Type_Diesel and a positive one with Fuel_Type_Petrol.\n",
    "\n",
    "Automatictransmission shows minimal influence on other variables, except for a slight correlation with Fuel_Type_Petrol.\n",
    "\n",
    "Overall, factors such as age and mileage tend to negatively affect the price, while weight and horsepower have a positive effect. The type of fuel significantly influences both engine capacity and horsepower, with diesel generally associated with higher mileage and lower horsepower."
   ]
  },
  {
   "cell_type": "markdown",
   "id": "13da6152",
   "metadata": {},
   "source": [
    "# Define Features and Target Variable"
   ]
  },
  {
   "cell_type": "raw",
   "id": "dc0c7115",
   "metadata": {},
   "source": [
    "Target Variable is Price"
   ]
  },
  {
   "cell_type": "code",
   "execution_count": 91,
   "id": "d94f3a06",
   "metadata": {},
   "outputs": [
    {
     "data": {
      "text/plain": [
       "0    0.763763\n",
       "1    0.832715\n",
       "2    0.887877\n",
       "Name: Price, dtype: float64"
      ]
     },
     "execution_count": 91,
     "metadata": {},
     "output_type": "execute_result"
    }
   ],
   "source": [
    "y = data[\"Price\"]\n",
    "X = data.drop(\"Price\",axis=1)\n",
    "y.head(3)"
   ]
  },
  {
   "cell_type": "code",
   "execution_count": 95,
   "id": "a848fbc9",
   "metadata": {},
   "outputs": [
    {
     "data": {
      "text/plain": [
       "(1436,)"
      ]
     },
     "execution_count": 95,
     "metadata": {},
     "output_type": "execute_result"
    }
   ],
   "source": [
    "y.shape"
   ]
  },
  {
   "cell_type": "code",
   "execution_count": 96,
   "id": "c9b114a0",
   "metadata": {},
   "outputs": [
    {
     "data": {
      "text/plain": [
       "(1436, 9)"
      ]
     },
     "execution_count": 96,
     "metadata": {},
     "output_type": "execute_result"
    }
   ],
   "source": [
    "X.shape"
   ]
  },
  {
   "cell_type": "code",
   "execution_count": 97,
   "id": "e5a9ef5f",
   "metadata": {},
   "outputs": [
    {
     "data": {
      "text/html": [
       "<div>\n",
       "<style scoped>\n",
       "    .dataframe tbody tr th:only-of-type {\n",
       "        vertical-align: middle;\n",
       "    }\n",
       "\n",
       "    .dataframe tbody tr th {\n",
       "        vertical-align: top;\n",
       "    }\n",
       "\n",
       "    .dataframe thead th {\n",
       "        text-align: right;\n",
       "    }\n",
       "</style>\n",
       "<table border=\"1\" class=\"dataframe\">\n",
       "  <thead>\n",
       "    <tr style=\"text-align: right;\">\n",
       "      <th></th>\n",
       "      <th>Age_08_04</th>\n",
       "      <th>KM</th>\n",
       "      <th>HP</th>\n",
       "      <th>Automatic</th>\n",
       "      <th>cc</th>\n",
       "      <th>Doors</th>\n",
       "      <th>Cylinders</th>\n",
       "      <th>Gears</th>\n",
       "      <th>Weight</th>\n",
       "    </tr>\n",
       "  </thead>\n",
       "  <tbody>\n",
       "    <tr>\n",
       "      <th>0</th>\n",
       "      <td>-1.771966</td>\n",
       "      <td>-0.574695</td>\n",
       "      <td>-0.768042</td>\n",
       "      <td>-0.242893</td>\n",
       "      <td>0.997419</td>\n",
       "      <td>-1.085139</td>\n",
       "      <td>0.0</td>\n",
       "      <td>-0.140425</td>\n",
       "      <td>1.758561</td>\n",
       "    </tr>\n",
       "    <tr>\n",
       "      <th>1</th>\n",
       "      <td>-1.771966</td>\n",
       "      <td>0.117454</td>\n",
       "      <td>-0.768042</td>\n",
       "      <td>-0.242893</td>\n",
       "      <td>0.997419</td>\n",
       "      <td>-1.085139</td>\n",
       "      <td>0.0</td>\n",
       "      <td>-0.140425</td>\n",
       "      <td>1.758561</td>\n",
       "    </tr>\n",
       "    <tr>\n",
       "      <th>2</th>\n",
       "      <td>-1.718184</td>\n",
       "      <td>-0.715386</td>\n",
       "      <td>-0.768042</td>\n",
       "      <td>-0.242893</td>\n",
       "      <td>0.997419</td>\n",
       "      <td>-1.085139</td>\n",
       "      <td>0.0</td>\n",
       "      <td>-0.140425</td>\n",
       "      <td>1.758561</td>\n",
       "    </tr>\n",
       "    <tr>\n",
       "      <th>3</th>\n",
       "      <td>-1.610620</td>\n",
       "      <td>-0.547650</td>\n",
       "      <td>-0.768042</td>\n",
       "      <td>-0.242893</td>\n",
       "      <td>0.997419</td>\n",
       "      <td>-1.085139</td>\n",
       "      <td>0.0</td>\n",
       "      <td>-0.140425</td>\n",
       "      <td>1.758561</td>\n",
       "    </tr>\n",
       "    <tr>\n",
       "      <th>4</th>\n",
       "      <td>-1.395491</td>\n",
       "      <td>-0.801028</td>\n",
       "      <td>-0.768042</td>\n",
       "      <td>-0.242893</td>\n",
       "      <td>0.997419</td>\n",
       "      <td>-1.085139</td>\n",
       "      <td>0.0</td>\n",
       "      <td>-0.140425</td>\n",
       "      <td>1.853577</td>\n",
       "    </tr>\n",
       "  </tbody>\n",
       "</table>\n",
       "</div>"
      ],
      "text/plain": [
       "   Age_08_04        KM        HP  Automatic        cc     Doors  Cylinders  \\\n",
       "0  -1.771966 -0.574695 -0.768042  -0.242893  0.997419 -1.085139        0.0   \n",
       "1  -1.771966  0.117454 -0.768042  -0.242893  0.997419 -1.085139        0.0   \n",
       "2  -1.718184 -0.715386 -0.768042  -0.242893  0.997419 -1.085139        0.0   \n",
       "3  -1.610620 -0.547650 -0.768042  -0.242893  0.997419 -1.085139        0.0   \n",
       "4  -1.395491 -0.801028 -0.768042  -0.242893  0.997419 -1.085139        0.0   \n",
       "\n",
       "      Gears    Weight  \n",
       "0 -0.140425  1.758561  \n",
       "1 -0.140425  1.758561  \n",
       "2 -0.140425  1.758561  \n",
       "3 -0.140425  1.758561  \n",
       "4 -0.140425  1.853577  "
      ]
     },
     "execution_count": 97,
     "metadata": {},
     "output_type": "execute_result"
    }
   ],
   "source": [
    "X.head()"
   ]
  },
  {
   "cell_type": "markdown",
   "id": "a2f7e8e6",
   "metadata": {},
   "source": [
    "# Spliting the Dataset into Training and Testing Sets"
   ]
  },
  {
   "cell_type": "code",
   "execution_count": 98,
   "id": "6bf62676",
   "metadata": {},
   "outputs": [],
   "source": [
    "from sklearn.model_selection import train_test_split\n",
    "from sklearn.metrics import mean_squared_error, r2_score"
   ]
  },
  {
   "cell_type": "code",
   "execution_count": 99,
   "id": "fa877213",
   "metadata": {},
   "outputs": [],
   "source": [
    "X_train, X_test, y_train, y_test = train_test_split(X, y, test_size=0.2, random_state=42)"
   ]
  },
  {
   "cell_type": "markdown",
   "id": "3c202888",
   "metadata": {},
   "source": [
    "# Linear Regression Model"
   ]
  },
  {
   "cell_type": "code",
   "execution_count": 101,
   "id": "0d743bcb",
   "metadata": {},
   "outputs": [
    {
     "data": {
      "text/plain": [
       "LinearRegression()"
      ]
     },
     "execution_count": 101,
     "metadata": {},
     "output_type": "execute_result"
    }
   ],
   "source": [
    "from sklearn.linear_model import LinearRegression\n",
    "lr = LinearRegression()\n",
    "lr.fit(X_train, y_train)"
   ]
  },
  {
   "cell_type": "code",
   "execution_count": 102,
   "id": "a7f7184a",
   "metadata": {},
   "outputs": [],
   "source": [
    "y_pred_train = lr.predict(X_train)\n",
    "y_pred_test = lr.predict(X_test)"
   ]
  },
  {
   "cell_type": "code",
   "execution_count": 103,
   "id": "f8fb5eaa",
   "metadata": {},
   "outputs": [
    {
     "data": {
      "text/plain": [
       "array([-0.46945311, -0.51176727,  0.7956735 , ..., -0.77396555,\n",
       "       -0.61875583, -1.17849971])"
      ]
     },
     "execution_count": 103,
     "metadata": {},
     "output_type": "execute_result"
    }
   ],
   "source": [
    "y_pred_train"
   ]
  },
  {
   "cell_type": "code",
   "execution_count": 104,
   "id": "79ac9a00",
   "metadata": {},
   "outputs": [
    {
     "data": {
      "text/html": [
       "<div>\n",
       "<style scoped>\n",
       "    .dataframe tbody tr th:only-of-type {\n",
       "        vertical-align: middle;\n",
       "    }\n",
       "\n",
       "    .dataframe tbody tr th {\n",
       "        vertical-align: top;\n",
       "    }\n",
       "\n",
       "    .dataframe thead th {\n",
       "        text-align: right;\n",
       "    }\n",
       "</style>\n",
       "<table border=\"1\" class=\"dataframe\">\n",
       "  <thead>\n",
       "    <tr style=\"text-align: right;\">\n",
       "      <th></th>\n",
       "      <th>0</th>\n",
       "    </tr>\n",
       "  </thead>\n",
       "  <tbody>\n",
       "    <tr>\n",
       "      <th>0</th>\n",
       "      <td>0.154332</td>\n",
       "    </tr>\n",
       "    <tr>\n",
       "      <th>1</th>\n",
       "      <td>-0.508340</td>\n",
       "    </tr>\n",
       "    <tr>\n",
       "      <th>2</th>\n",
       "      <td>-0.341883</td>\n",
       "    </tr>\n",
       "    <tr>\n",
       "      <th>3</th>\n",
       "      <td>-0.497631</td>\n",
       "    </tr>\n",
       "    <tr>\n",
       "      <th>4</th>\n",
       "      <td>-0.176678</td>\n",
       "    </tr>\n",
       "  </tbody>\n",
       "</table>\n",
       "</div>"
      ],
      "text/plain": [
       "          0\n",
       "0  0.154332\n",
       "1 -0.508340\n",
       "2 -0.341883\n",
       "3 -0.497631\n",
       "4 -0.176678"
      ]
     },
     "execution_count": 104,
     "metadata": {},
     "output_type": "execute_result"
    }
   ],
   "source": [
    "pd.DataFrame(y_pred_test).head()"
   ]
  },
  {
   "cell_type": "code",
   "execution_count": 105,
   "id": "e3eca05f",
   "metadata": {},
   "outputs": [
    {
     "name": "stdout",
     "output_type": "stream",
     "text": [
      "Training MSE: 0.1335663372053916\n",
      "Testing MSE: 0.14986839281598288\n"
     ]
    }
   ],
   "source": [
    "print(f\"Training MSE: {mean_squared_error(y_train, y_pred_train)}\")\n",
    "print(f\"Testing MSE: {mean_squared_error(y_test, y_pred_test)}\")"
   ]
  },
  {
   "cell_type": "code",
   "execution_count": 106,
   "id": "1bf2e662",
   "metadata": {},
   "outputs": [
    {
     "name": "stdout",
     "output_type": "stream",
     "text": [
      "Training R^2: 0.8659010573124349\n",
      "Testing R^2: 0.8523452141908852\n"
     ]
    }
   ],
   "source": [
    "print(f\"Training R^2: {r2_score(y_train, y_pred_train)}\")\n",
    "print(f\"Testing R^2: {r2_score(y_test, y_pred_test)}\")"
   ]
  },
  {
   "cell_type": "code",
   "execution_count": 107,
   "id": "370391b6",
   "metadata": {},
   "outputs": [
    {
     "name": "stdout",
     "output_type": "stream",
     "text": [
      "            Coefficient\n",
      "Age_08_04 -6.194064e-01\n",
      "KM        -2.066781e-01\n",
      "HP         1.132952e-01\n",
      "Automatic  2.348262e-02\n",
      "cc        -1.328209e-02\n",
      "Doors      1.979304e-03\n",
      "Cylinders -1.387779e-17\n",
      "Gears      3.255792e-02\n",
      "Weight     2.879998e-01\n"
     ]
    }
   ],
   "source": [
    "# Coefficients\n",
    "coefficients1 = pd.DataFrame(lr.coef_, X.columns, columns=['Coefficient'])\n",
    "print(coefficients1)"
   ]
  },
  {
   "cell_type": "markdown",
   "id": "7176a7f0",
   "metadata": {},
   "source": [
    "# Polynomial regression Model"
   ]
  },
  {
   "cell_type": "code",
   "execution_count": 108,
   "id": "e8fe6ab6",
   "metadata": {},
   "outputs": [],
   "source": [
    "from sklearn.preprocessing import PolynomialFeatures\n",
    "poly = PolynomialFeatures()\n",
    "X_poly_train = poly.fit_transform(X_train)\n",
    "X_poly_test = poly.transform(X_test)"
   ]
  },
  {
   "cell_type": "markdown",
   "id": "5ae669c0",
   "metadata": {},
   "source": [
    "# Intialize and fit the model"
   ]
  },
  {
   "cell_type": "code",
   "execution_count": 109,
   "id": "f94e3c48",
   "metadata": {},
   "outputs": [],
   "source": [
    "model2 = LinearRegression()\n",
    "model2.fit(X_poly_train, y_train)\n",
    "y_pred_train_poly = model2.predict(X_poly_train)\n",
    "y_pred_test_poly = model2.predict(X_poly_test)"
   ]
  },
  {
   "cell_type": "code",
   "execution_count": 110,
   "id": "768ba48a",
   "metadata": {},
   "outputs": [
    {
     "name": "stdout",
     "output_type": "stream",
     "text": [
      "Training MSE (Poly): 0.08925654990763549\n",
      "Testing MSE (Poly): 0.10230623126100896\n",
      "Training R^2 (Poly): 0.9103875331091235\n",
      "Testing R^2 (Poly): 0.8992048664835548\n"
     ]
    }
   ],
   "source": [
    "print(f\"Training MSE (Poly): {mean_squared_error(y_train, y_pred_train_poly)}\")\n",
    "print(f\"Testing MSE (Poly): {mean_squared_error(y_test, y_pred_test_poly)}\")\n",
    "print(f\"Training R^2 (Poly): {r2_score(y_train, y_pred_train_poly)}\")\n",
    "print(f\"Testing R^2 (Poly): {r2_score(y_test, y_pred_test_poly)}\")"
   ]
  },
  {
   "cell_type": "markdown",
   "id": "68e512bc",
   "metadata": {},
   "source": [
    "# Coefficients"
   ]
  },
  {
   "cell_type": "code",
   "execution_count": 111,
   "id": "0c6b75c2",
   "metadata": {},
   "outputs": [
    {
     "name": "stdout",
     "output_type": "stream",
     "text": [
      "                      Coefficient\n",
      "1                   -2.027014e-16\n",
      "Age_08_04           -5.330968e-01\n",
      "KM                  -1.423521e-01\n",
      "HP                   1.845588e-02\n",
      "Automatic            3.629110e-03\n",
      "cc                  -9.661851e-02\n",
      "Doors               -6.763637e-03\n",
      "Cylinders           -3.025358e-15\n",
      "Gears                1.205276e-01\n",
      "Weight               3.623188e-01\n",
      "Age_08_04^2          7.616502e-03\n",
      "Age_08_04 KM         9.281038e-02\n",
      "Age_08_04 HP        -9.527067e-02\n",
      "Age_08_04 Automatic  6.892186e-03\n",
      "Age_08_04 cc         4.328547e-03\n",
      "Age_08_04 Doors      5.490186e-02\n",
      "Age_08_04 Cylinders -2.081668e-16\n",
      "Age_08_04 Gears      5.724727e-02\n",
      "Age_08_04 Weight    -1.760384e-01\n",
      "KM^2                -5.318869e-02\n",
      "KM HP               -2.066182e-02\n",
      "KM Automatic        -8.770174e-04\n",
      "KM cc                3.191090e-02\n",
      "KM Doors            -2.379393e-02\n",
      "KM Cylinders         4.251428e-17\n",
      "KM Gears            -4.995337e-03\n",
      "KM Weight            4.652839e-02\n",
      "HP^2                -3.311817e-03\n",
      "HP Automatic        -1.711462e-01\n",
      "HP cc               -2.607911e-02\n",
      "HP Doors            -2.314882e-04\n",
      "HP Cylinders         1.353084e-16\n",
      "HP Gears            -1.695076e-01\n",
      "HP Weight            8.472663e-03\n",
      "Automatic^2          1.405970e-02\n",
      "Automatic cc         3.497126e-01\n",
      "Automatic Doors     -1.529368e-02\n",
      "Automatic Cylinders  1.040834e-17\n",
      "Automatic Gears     -3.728039e-02\n",
      "Automatic Weight     7.659554e-03\n",
      "cc^2                -2.964757e-02\n",
      "cc Doors            -5.915460e-02\n",
      "cc Cylinders         8.326673e-17\n",
      "cc Gears            -3.169667e-02\n",
      "cc Weight           -1.048746e-01\n",
      "Doors^2             -5.712525e-02\n",
      "Doors Cylinders      0.000000e+00\n",
      "Doors Gears          8.233591e-03\n",
      "Doors Weight         6.850445e-02\n",
      "Cylinders^2          0.000000e+00\n",
      "Cylinders Gears      0.000000e+00\n",
      "Cylinders Weight     0.000000e+00\n",
      "Gears^2              1.174034e-02\n",
      "Gears Weight         4.089384e-01\n",
      "Weight^2            -2.353348e-02\n"
     ]
    }
   ],
   "source": [
    "poly_features = poly.get_feature_names_out(X.columns)\n",
    "coefficients2 = pd.DataFrame(model2.coef_, poly_features, columns=['Coefficient'])\n",
    "print(coefficients2)"
   ]
  },
  {
   "cell_type": "markdown",
   "id": "ea6fef6e",
   "metadata": {},
   "source": [
    "# Support Vector Machine"
   ]
  },
  {
   "cell_type": "code",
   "execution_count": 112,
   "id": "f04f71ae",
   "metadata": {},
   "outputs": [
    {
     "data": {
      "text/plain": [
       "SVR()"
      ]
     },
     "execution_count": 112,
     "metadata": {},
     "output_type": "execute_result"
    }
   ],
   "source": [
    "from sklearn.svm import SVR\n",
    "svr = SVR(kernel='rbf')\n",
    "svr.fit(X_train, y_train)"
   ]
  },
  {
   "cell_type": "code",
   "execution_count": 115,
   "id": "00127062",
   "metadata": {},
   "outputs": [
    {
     "name": "stdout",
     "output_type": "stream",
     "text": [
      "Training MSE (SVM): 0.09705824381045006\n",
      "Testing MSE (SVM): 0.11677031724076675\n",
      "Training R^2 (): 0.9025547293845543\n",
      "Testing R^2 (Poly): 0.8849544199608641\n"
     ]
    }
   ],
   "source": [
    "svr_pred_train= svr.predict(X_train)\n",
    "svr_pred_test = svr.predict(X_test)\n",
    "print(f\"Training MSE (SVM): {mean_squared_error(y_train,svr_pred_train)}\")\n",
    "print(f\"Testing MSE (SVM): {mean_squared_error(y_test, svr_pred_test)}\")\n",
    "print(f\"Training R^2 (): {r2_score(y_train, svr_pred_train)}\")\n",
    "print(f\"Testing R^2 (Poly): {r2_score(y_test, svr_pred_test)}\")"
   ]
  },
  {
   "cell_type": "code",
   "execution_count": 116,
   "id": "be71e5c1",
   "metadata": {},
   "outputs": [
    {
     "data": {
      "text/html": [
       "<div>\n",
       "<style scoped>\n",
       "    .dataframe tbody tr th:only-of-type {\n",
       "        vertical-align: middle;\n",
       "    }\n",
       "\n",
       "    .dataframe tbody tr th {\n",
       "        vertical-align: top;\n",
       "    }\n",
       "\n",
       "    .dataframe thead th {\n",
       "        text-align: right;\n",
       "    }\n",
       "</style>\n",
       "<table border=\"1\" class=\"dataframe\">\n",
       "  <thead>\n",
       "    <tr style=\"text-align: right;\">\n",
       "      <th></th>\n",
       "      <th>0</th>\n",
       "    </tr>\n",
       "  </thead>\n",
       "  <tbody>\n",
       "    <tr>\n",
       "      <th>0</th>\n",
       "      <td>-0.299546</td>\n",
       "    </tr>\n",
       "    <tr>\n",
       "      <th>1</th>\n",
       "      <td>-0.567482</td>\n",
       "    </tr>\n",
       "    <tr>\n",
       "      <th>2</th>\n",
       "      <td>0.597063</td>\n",
       "    </tr>\n",
       "    <tr>\n",
       "      <th>3</th>\n",
       "      <td>-0.683279</td>\n",
       "    </tr>\n",
       "    <tr>\n",
       "      <th>4</th>\n",
       "      <td>1.412404</td>\n",
       "    </tr>\n",
       "  </tbody>\n",
       "</table>\n",
       "</div>"
      ],
      "text/plain": [
       "          0\n",
       "0 -0.299546\n",
       "1 -0.567482\n",
       "2  0.597063\n",
       "3 -0.683279\n",
       "4  1.412404"
      ]
     },
     "execution_count": 116,
     "metadata": {},
     "output_type": "execute_result"
    }
   ],
   "source": [
    "pd.DataFrame(svr_pred_train).head()"
   ]
  },
  {
   "cell_type": "code",
   "execution_count": 117,
   "id": "5de957f7",
   "metadata": {},
   "outputs": [
    {
     "data": {
      "text/html": [
       "<div>\n",
       "<style scoped>\n",
       "    .dataframe tbody tr th:only-of-type {\n",
       "        vertical-align: middle;\n",
       "    }\n",
       "\n",
       "    .dataframe tbody tr th {\n",
       "        vertical-align: top;\n",
       "    }\n",
       "\n",
       "    .dataframe thead th {\n",
       "        text-align: right;\n",
       "    }\n",
       "</style>\n",
       "<table border=\"1\" class=\"dataframe\">\n",
       "  <thead>\n",
       "    <tr style=\"text-align: right;\">\n",
       "      <th></th>\n",
       "      <th>0</th>\n",
       "    </tr>\n",
       "  </thead>\n",
       "  <tbody>\n",
       "    <tr>\n",
       "      <th>0</th>\n",
       "      <td>-0.077332</td>\n",
       "    </tr>\n",
       "    <tr>\n",
       "      <th>1</th>\n",
       "      <td>-0.596833</td>\n",
       "    </tr>\n",
       "    <tr>\n",
       "      <th>2</th>\n",
       "      <td>-0.465154</td>\n",
       "    </tr>\n",
       "    <tr>\n",
       "      <th>3</th>\n",
       "      <td>-0.524406</td>\n",
       "    </tr>\n",
       "    <tr>\n",
       "      <th>4</th>\n",
       "      <td>-0.315109</td>\n",
       "    </tr>\n",
       "  </tbody>\n",
       "</table>\n",
       "</div>"
      ],
      "text/plain": [
       "          0\n",
       "0 -0.077332\n",
       "1 -0.596833\n",
       "2 -0.465154\n",
       "3 -0.524406\n",
       "4 -0.315109"
      ]
     },
     "execution_count": 117,
     "metadata": {},
     "output_type": "execute_result"
    }
   ],
   "source": [
    "pd.DataFrame(svr_pred_test).head()"
   ]
  },
  {
   "cell_type": "markdown",
   "id": "96c3cff8",
   "metadata": {},
   "source": [
    "# Regularization Techniques"
   ]
  },
  {
   "cell_type": "raw",
   "id": "0bbc7e3f",
   "metadata": {},
   "source": [
    "Lasso and Ridge are two regularization techniques used to improve the performance and generalizability of linear regression models.Adds a penalty proportional to the square of the magnitude of the coefficients.Helps prevent overfitting by shrinking the coefficients.Suitable for models with multicollinearity and when we want to retain all features."
   ]
  },
  {
   "cell_type": "markdown",
   "id": "6d5d40ed",
   "metadata": {},
   "source": [
    "# 1.Ridge Regression"
   ]
  },
  {
   "cell_type": "code",
   "execution_count": 118,
   "id": "9463d081",
   "metadata": {},
   "outputs": [],
   "source": [
    "from sklearn.linear_model import Ridge\n",
    "# Model with Ridge Regularization\n",
    "ridge = Ridge(alpha=0.1) # Adjust alpha as needed\n",
    "ridge.fit(X_train, y_train)\n",
    "y_pred_ridge = ridge.predict(X_test)"
   ]
  },
  {
   "cell_type": "code",
   "execution_count": 119,
   "id": "ee814a86",
   "metadata": {},
   "outputs": [
    {
     "name": "stdout",
     "output_type": "stream",
     "text": [
      "Ridge MSE: 0.14986967028943743\n",
      "Ridge R^2: 0.852343955586147\n"
     ]
    }
   ],
   "source": [
    "print(f\"Ridge MSE: {mean_squared_error(y_test, y_pred_ridge)}\")\n",
    "print(f\"Ridge R^2: {r2_score(y_test, y_pred_ridge)}\")"
   ]
  },
  {
   "cell_type": "code",
   "execution_count": 120,
   "id": "ffe5a85e",
   "metadata": {},
   "outputs": [
    {
     "name": "stdout",
     "output_type": "stream",
     "text": [
      "           Coefficient\n",
      "Age_08_04    -0.619344\n",
      "KM           -0.206695\n",
      "HP            0.113288\n",
      "Automatic     0.023477\n",
      "cc           -0.013274\n",
      "Doors         0.001987\n",
      "Cylinders     0.000000\n",
      "Gears         0.032557\n",
      "Weight        0.287999\n"
     ]
    }
   ],
   "source": [
    "# Coefficients\n",
    "ridge_coefficients = pd.DataFrame(ridge.coef_, X.columns, columns=['Coefficient'])\n",
    "print(ridge_coefficients)"
   ]
  },
  {
   "cell_type": "markdown",
   "id": "f6e9ce22",
   "metadata": {},
   "source": [
    "# Lasso Regression"
   ]
  },
  {
   "cell_type": "raw",
   "id": "90dc2a6c",
   "metadata": {},
   "source": [
    "Adds a penalty proportional to the absolute value of the coefficients.Can reduce some coefficients to zero, effectively performing feature selection."
   ]
  },
  {
   "cell_type": "code",
   "execution_count": 121,
   "id": "b7837374",
   "metadata": {},
   "outputs": [],
   "source": [
    "from sklearn.linear_model import Lasso"
   ]
  },
  {
   "cell_type": "code",
   "execution_count": 122,
   "id": "41a6d0df",
   "metadata": {},
   "outputs": [],
   "source": [
    "# Model with Lasso Regularization\n",
    "lasso = Lasso(alpha=0.1) # Adjust alpha as needed\n",
    "lasso.fit(X_train, y_train)\n",
    "y_pred_lasso = lasso.predict(X_test)"
   ]
  },
  {
   "cell_type": "code",
   "execution_count": 123,
   "id": "d8078371",
   "metadata": {},
   "outputs": [
    {
     "name": "stdout",
     "output_type": "stream",
     "text": [
      "Lasso MSE: 0.17400385240333016\n",
      "Lasso R^2: 0.8285662435299396\n"
     ]
    }
   ],
   "source": [
    "print(f\"Lasso MSE: {mean_squared_error(y_test, y_pred_lasso)}\")\n",
    "print(f\"Lasso R^2: {r2_score(y_test, y_pred_lasso)}\")"
   ]
  },
  {
   "cell_type": "code",
   "execution_count": 125,
   "id": "1c931edb",
   "metadata": {},
   "outputs": [
    {
     "name": "stdout",
     "output_type": "stream",
     "text": [
      "           Coefficient\n",
      "Age_08_04    -0.607319\n",
      "KM           -0.138863\n",
      "HP            0.049862\n",
      "Automatic     0.000000\n",
      "cc            0.000000\n",
      "Doors         0.000000\n",
      "Cylinders     0.000000\n",
      "Gears         0.000000\n",
      "Weight        0.189482\n"
     ]
    }
   ],
   "source": [
    "# Coefficients\n",
    "lasso_coefficients = pd.DataFrame(lasso.coef_, X.columns, columns=['Coefficient'])\n",
    "print(lasso_coefficients)"
   ]
  },
  {
   "cell_type": "code",
   "execution_count": null,
   "id": "f1b7c38a",
   "metadata": {},
   "outputs": [],
   "source": []
  }
 ],
 "metadata": {
  "kernelspec": {
   "display_name": "Python 3 (ipykernel)",
   "language": "python",
   "name": "python3"
  },
  "language_info": {
   "codemirror_mode": {
    "name": "ipython",
    "version": 3
   },
   "file_extension": ".py",
   "mimetype": "text/x-python",
   "name": "python",
   "nbconvert_exporter": "python",
   "pygments_lexer": "ipython3",
   "version": "3.9.12"
  }
 },
 "nbformat": 4,
 "nbformat_minor": 5
}
